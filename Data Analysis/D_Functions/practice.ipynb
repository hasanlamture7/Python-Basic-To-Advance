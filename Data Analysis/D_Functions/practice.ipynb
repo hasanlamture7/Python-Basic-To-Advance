{
 "cells": [
  {
   "cell_type": "markdown",
   "metadata": {},
   "source": [
    "Syntax"
   ]
  },
  {
   "cell_type": "code",
   "execution_count": 1,
   "metadata": {},
   "outputs": [],
   "source": [
    "def function_name(prameters):\n",
    "    \"\"\"DocString\"\"\"\n",
    "    #block of code \n",
    "    return expresion"
   ]
  },
  {
   "cell_type": "code",
   "execution_count": 6,
   "metadata": {},
   "outputs": [],
   "source": [
    "#Even or code for function\n",
    "\n",
    "def even_or_odd(num):\n",
    "    \"\"\"This code is to check even or number\"\"\"\n",
    "    if num%2==0:\n",
    "        print(\"The given number is even\")\n",
    "    else:\n",
    "        print(\"The given number is odd\")\n"
   ]
  },
  {
   "cell_type": "code",
   "execution_count": null,
   "metadata": {},
   "outputs": [
    {
     "name": "stdout",
     "output_type": "stream",
     "text": [
      "The given number is even\n"
     ]
    }
   ],
   "source": [
    "#call this funcrion\n",
    "even_or_odd(34)"
   ]
  },
  {
   "cell_type": "code",
   "execution_count": 10,
   "metadata": {},
   "outputs": [
    {
     "name": "stdout",
     "output_type": "stream",
     "text": [
      "The sum is 6\n"
     ]
    }
   ],
   "source": [
    "#Function with mulitple parameters \n",
    "def sum(a,b):\n",
    "    #c=a+b\n",
    "    return a+b\n",
    "result=sum(2,4)\n",
    "print(f\"The sum is {result}\")"
   ]
  },
  {
   "cell_type": "code",
   "execution_count": 16,
   "metadata": {},
   "outputs": [
    {
     "name": "stdout",
     "output_type": "stream",
     "text": [
      "Hello Hasan welcome to Golden World\n"
     ]
    }
   ],
   "source": [
    "#the function with default parameters\n",
    "def greet(name=\"Guest\"):#If the name is not given default takes as Guest\n",
    "    print(f\"Hello {name} welcome to Golden World\")\n",
    "greet(\"Hasan\")"
   ]
  },
  {
   "cell_type": "markdown",
   "metadata": {},
   "source": [
    "Positional Argument"
   ]
  },
  {
   "cell_type": "code",
   "execution_count": null,
   "metadata": {},
   "outputs": [],
   "source": [
    "#Defining positional argument\n",
    "def positinal_arg(*args):\n",
    "    for elements in args:\n",
    "        print(elements)"
   ]
  },
  {
   "cell_type": "code",
   "execution_count": 18,
   "metadata": {},
   "outputs": [
    {
     "name": "stdout",
     "output_type": "stream",
     "text": [
      "1\n",
      "2\n",
      "3\n",
      "4\n",
      "5\n",
      "6\n",
      "7\n",
      "8\n",
      "Hasan\n"
     ]
    }
   ],
   "source": [
    "positinal_arg(1,2,3,4,5,6,7,8,\"Hasan\")"
   ]
  },
  {
   "cell_type": "markdown",
   "metadata": {},
   "source": [
    "Keyword Argument"
   ]
  },
  {
   "cell_type": "code",
   "execution_count": 23,
   "metadata": {},
   "outputs": [],
   "source": [
    "def key_arg(**kargs):\n",
    "    for key,value in kargs.items():\n",
    "        print(f\"{key}:{value}\")\n"
   ]
  },
  {
   "cell_type": "code",
   "execution_count": 24,
   "metadata": {},
   "outputs": [
    {
     "name": "stdout",
     "output_type": "stream",
     "text": [
      "Name:Hasan\n",
      "Age:21\n",
      "RollNumber:64\n"
     ]
    }
   ],
   "source": [
    "key_arg(Name=\"Hasan\",Age=21,RollNumber=64)"
   ]
  },
  {
   "cell_type": "code",
   "execution_count": null,
   "metadata": {},
   "outputs": [],
   "source": [
    "#The multiple arguments with positional and Keyword\n",
    "\n",
    "def position_key_arg(*args,**kargs):\n",
    "    for elements in args:\n",
    "        print(f\"The functional arg  {elements}\")\n",
    "\n",
    "    for key,value in kargs.items():\n",
    "        print(f\"{key}:{value}\")"
   ]
  },
  {
   "cell_type": "code",
   "execution_count": 30,
   "metadata": {},
   "outputs": [
    {
     "name": "stdout",
     "output_type": "stream",
     "text": [
      "The functional arg  1\n",
      "The functional arg  2\n",
      "The functional arg  3\n",
      "The functional arg  4\n",
      "The functional arg  5\n",
      "Name:Hasan\n",
      "Age:21\n",
      "RollNumber:64\n"
     ]
    }
   ],
   "source": [
    "position_key_arg(1,2,3,4,5,Name=\"Hasan\",Age=21,RollNumber=64)"
   ]
  },
  {
   "cell_type": "markdown",
   "metadata": {},
   "source": [
    "Return "
   ]
  },
  {
   "cell_type": "code",
   "execution_count": 32,
   "metadata": {},
   "outputs": [],
   "source": [
    "def return_key(c,d):\n",
    "    return c+d,d\n"
   ]
  },
  {
   "cell_type": "code",
   "execution_count": 33,
   "metadata": {},
   "outputs": [
    {
     "data": {
      "text/plain": [
       "(10, 6)"
      ]
     },
     "execution_count": 33,
     "metadata": {},
     "output_type": "execute_result"
    }
   ],
   "source": [
    "return_key(4,6)"
   ]
  }
 ],
 "metadata": {
  "kernelspec": {
   "display_name": "base",
   "language": "python",
   "name": "python3"
  },
  "language_info": {
   "codemirror_mode": {
    "name": "ipython",
    "version": 3
   },
   "file_extension": ".py",
   "mimetype": "text/x-python",
   "name": "python",
   "nbconvert_exporter": "python",
   "pygments_lexer": "ipython3",
   "version": "3.12.7"
  }
 },
 "nbformat": 4,
 "nbformat_minor": 2
}
