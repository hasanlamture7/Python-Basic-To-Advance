{
 "cells": [
  {
   "cell_type": "markdown",
   "metadata": {},
   "source": [
    "# Module 4: Functions Assignments\n",
    "## Lesson 4.1: Defining Functions\n",
    "### Assignment 1: Simple Function\n",
    "\n",
    "Define a function that takes a single integer as input and returns its square. Test the function with different inputs."
   ]
  },
  {
   "cell_type": "code",
   "execution_count": 19,
   "metadata": {},
   "outputs": [
    {
     "name": "stdout",
     "output_type": "stream",
     "text": [
      "4\n",
      "998001\n"
     ]
    }
   ],
   "source": [
    "def square1(x):\n",
    "    return x**2\n",
    "print(square1(2))\n",
    "print(square1(999))"
   ]
  },
  {
   "cell_type": "markdown",
   "metadata": {},
   "source": [
    "### Assignment 2: Multiple Arguments\n",
    "\n",
    "Define a function that takes two integers as input and returns their sum. Test the function with different inputs."
   ]
  },
  {
   "cell_type": "code",
   "execution_count": null,
   "metadata": {},
   "outputs": [
    {
     "name": "stdout",
     "output_type": "stream",
     "text": [
      "90\n",
      "390\n"
     ]
    }
   ],
   "source": [
    "def add(x,y):\n",
    "    \"\"\"Two Argument function\"\"\"\n",
    "    return x+y\n",
    "print(add(45,45))\n",
    "print(add(345,45))"
   ]
  },
  {
   "cell_type": "markdown",
   "metadata": {},
   "source": [
    "### Assignment 3: Default Arguments\n",
    "\n",
    "Define a function that takes two integers as input and returns their sum. The second integer should have a default value of 5. Test the function with different inputs."
   ]
  },
  {
   "cell_type": "code",
   "execution_count": 23,
   "metadata": {},
   "outputs": [
    {
     "name": "stdout",
     "output_type": "stream",
     "text": [
      "33\n",
      "58\n"
     ]
    }
   ],
   "source": [
    "def add(x,y=30):\n",
    "    return x+y\n",
    "print(add(3))\n",
    "print(add(3,55))"
   ]
  },
  {
   "cell_type": "markdown",
   "metadata": {},
   "source": [
    "### Assignment 4: Keyword Arguments\n",
    "\n",
    "Define a function that takes three named arguments: first_name, last_name, and age, and returns a formatted string. Test the function with different inputs."
   ]
  },
  {
   "cell_type": "code",
   "execution_count": 24,
   "metadata": {},
   "outputs": [
    {
     "name": "stdout",
     "output_type": "stream",
     "text": [
      "The Hasan lamture is 34 old\n"
     ]
    }
   ],
   "source": [
    "def format_person(first_name,last_name,age):\n",
    "    return f\"The {first_name} {last_name} is {age} old\"\n",
    "print(format_person(first_name='Hasan',last_name='lamture',age=34))"
   ]
  },
  {
   "cell_type": "markdown",
   "metadata": {},
   "source": [
    "### Assignment 5: Variable-length Arguments\n",
    "\n",
    "Define a function that takes a variable number of integer arguments and returns their product. Test the function with different inputs."
   ]
  },
  {
   "cell_type": "code",
   "execution_count": 8,
   "metadata": {},
   "outputs": [
    {
     "name": "stdout",
     "output_type": "stream",
     "text": [
      "24\n",
      "720\n"
     ]
    }
   ],
   "source": [
    "def multiply(*args):\n",
    "    product=1\n",
    "    for num in args:\n",
    "        product*=num\n",
    "    return product\n",
    "    \n",
    "print(multiply(2,3,4))\n",
    "print(multiply(1,2,3,4,5,6))\n"
   ]
  },
  {
   "cell_type": "markdown",
   "metadata": {},
   "source": [
    "### Assignment 6: Nested Functions\n",
    "\n",
    "Define a function that contains another function inside it. The outer function should take two integers as input and return the result of the inner function, which multiplies the two integers. Test the function with different inputs."
   ]
  },
  {
   "cell_type": "code",
   "execution_count": null,
   "metadata": {},
   "outputs": [
    {
     "name": "stdout",
     "output_type": "stream",
     "text": [
      "8\n"
     ]
    }
   ],
   "source": [
    "def outer_function(x,y):\n",
    "    def inner_function(a,b):\n",
    "        return a*b\n",
    "    return inner_function(x,y)\n",
    "print(outer_function(2,4))"
   ]
  },
  {
   "cell_type": "markdown",
   "metadata": {},
   "source": [
    "### Assignment 7: Returning Multiple Values\n",
    "\n",
    "Define a function that takes a single integer as input and returns the integer squared, cubed, and raised to the power of four. Test the function with different inputs."
   ]
  },
  {
   "cell_type": "code",
   "execution_count": 11,
   "metadata": {},
   "outputs": [
    {
     "name": "stdout",
     "output_type": "stream",
     "text": [
      "(9, 27, 81)\n",
      "(16, 64, 256)\n"
     ]
    }
   ],
   "source": [
    "def power(n):\n",
    "    return n**2,n**3,n**4\n",
    "print(power(3))  # (9, 27, 81)\n",
    "print(power(4))"
   ]
  },
  {
   "cell_type": "markdown",
   "metadata": {},
   "source": [
    "### Assignment 8: Recursive Function\n",
    "\n",
    "Define a recursive function that calculates the factorial of a given number. Test the function with different inputs."
   ]
  },
  {
   "cell_type": "code",
   "execution_count": 12,
   "metadata": {},
   "outputs": [
    {
     "name": "stdout",
     "output_type": "stream",
     "text": [
      "120\n"
     ]
    }
   ],
   "source": [
    "def factorial(n):\n",
    "    if n==0:\n",
    "        return 1\n",
    "    else:\n",
    "        return n * factorial(n-1)\n",
    "    \n",
    "print(factorial(5))"
   ]
  },
  {
   "cell_type": "markdown",
   "metadata": {},
   "source": [
    "### Assignment 9: Lambda Function\n",
    "\n",
    "Define a lambda function that takes two integers as input and returns their sum. Test the lambda function with different inputs."
   ]
  },
  {
   "cell_type": "code",
   "execution_count": 13,
   "metadata": {},
   "outputs": [
    {
     "name": "stdout",
     "output_type": "stream",
     "text": [
      "6\n"
     ]
    }
   ],
   "source": [
    "add=lambda x,y:x+y\n",
    "print(add(2,4))"
   ]
  },
  {
   "cell_type": "markdown",
   "metadata": {},
   "source": [
    "### Assignment 10: Map Function\n",
    "\n",
    "Use the map function to apply a lambda function that squares each number in a list of integers. Test with different lists."
   ]
  },
  {
   "cell_type": "code",
   "execution_count": 14,
   "metadata": {},
   "outputs": [
    {
     "name": "stdout",
     "output_type": "stream",
     "text": [
      "[1, 4, 9, 16, 25, 36, 49]\n"
     ]
    }
   ],
   "source": [
    "number=[1,2,3,4,5,6,7]\n",
    "\n",
    "multiply_1=list(map(lambda x:x*x,number))\n",
    "print(multiply_1)"
   ]
  },
  {
   "cell_type": "markdown",
   "metadata": {},
   "source": [
    "### Assignment 11: Filter Function\n",
    "\n",
    "Use the filter function to filter out all odd numbers from a list of integers. Test with different lists."
   ]
  },
  {
   "cell_type": "code",
   "execution_count": 15,
   "metadata": {},
   "outputs": [
    {
     "name": "stdout",
     "output_type": "stream",
     "text": [
      "[2, 4, 6, 8, 10]\n"
     ]
    }
   ],
   "source": [
    "numbers=[1,2,3,4,5,6,7,8,9,10]\n",
    "even_num=list(filter(lambda x:x%2==0,numbers))\n",
    "print(even_num)"
   ]
  },
  {
   "cell_type": "markdown",
   "metadata": {},
   "source": [
    "### Assignment 12: Function Decorator\n",
    "\n",
    "Define a decorator function that prints 'Executing function...' before executing a function and 'Function executed.' after executing it. Apply this decorator to a function that takes a list of integers and returns their sum. Test the decorated function with different lists."
   ]
  },
  {
   "cell_type": "code",
   "execution_count": 13,
   "metadata": {},
   "outputs": [
    {
     "name": "stdout",
     "output_type": "stream",
     "text": [
      "Executing function...\n",
      "Function executed.\n",
      "15\n"
     ]
    }
   ],
   "source": [
    "def my_decorator(func):\n",
    "    def wrapper(*args, **kwargs):\n",
    "        print('Executing function...')\n",
    "        result = func(*args, **kwargs)\n",
    "        print('Function executed.')\n",
    "        return result\n",
    "    return wrapper\n",
    "\n",
    "@my_decorator\n",
    "def sum_list(lst):\n",
    "    return sum(lst)\n",
    "\n",
    "# Test\n",
    "print(sum_list([1, 2, 3, 4, 5]))  # 15"
   ]
  },
  {
   "cell_type": "markdown",
   "metadata": {},
   "source": [
    "### Assignment 13: Function with *args and **kwargs\n",
    "\n",
    "Define a function that takes variable-length arguments and keyword arguments and prints them. Test the function with different inputs."
   ]
  },
  {
   "cell_type": "code",
   "execution_count": 19,
   "metadata": {},
   "outputs": [
    {
     "name": "stdout",
     "output_type": "stream",
     "text": [
      "Args : (1, 2, 3)\n",
      "Kwargs : {'Name': 'Hasan', 'Age': 21}\n",
      "None\n",
      "Args : (1, 2, 4, 5, 6, 'Harsh')\n",
      "Kwargs : {'Roll': 33, 'Name': 'Suresh'}\n",
      "None\n"
     ]
    }
   ],
   "source": [
    "def key_val(*args,**kwargs):\n",
    "    print(\"Args :\",args)\n",
    "    print(\"Kwargs :\",kwargs)\n",
    "print(key_val(1,2,3,Name=\"Hasan\",Age=21))\n",
    "print(key_val(1,2,4,5,6,\"Harsh\",Roll=33,Name=\"Suresh\"))"
   ]
  },
  {
   "cell_type": "markdown",
   "metadata": {},
   "source": [
    "### Assignment 14: Higher-Order Function\n",
    "\n",
    "Define a higher-order function that takes a function and a list of integers as arguments, and applies the function to each integer in the list. Test with different functions and lists."
   ]
  },
  {
   "cell_type": "code",
   "execution_count": 15,
   "metadata": {},
   "outputs": [
    {
     "name": "stdout",
     "output_type": "stream",
     "text": [
      "[1, 4, 9, 16, 25]\n",
      "[2, 3, 4, 5, 6]\n"
     ]
    }
   ],
   "source": [
    "def apply_function(func, lst):\n",
    "    return [func(x) for x in lst]\n",
    "\n",
    "# Test\n",
    "print(apply_function(lambda x: x ** 2, [1, 2, 3, 4, 5]))  # [1, 4, 9, 16, 25]\n",
    "print(apply_function(lambda x: x + 1, [1, 2, 3, 4, 5]))  # [2, 3, 4, 5, 6]"
   ]
  },
  {
   "cell_type": "markdown",
   "metadata": {},
   "source": [
    "### Assignment 15: Function Documentation\n",
    "\n",
    "Define a function with a docstring that explains what the function does, its parameters, and its return value. Print the function's docstring."
   ]
  },
  {
   "cell_type": "code",
   "execution_count": 16,
   "metadata": {},
   "outputs": [
    {
     "name": "stdout",
     "output_type": "stream",
     "text": [
      "\n",
      "    This function takes two integers and returns their sum.\n",
      "\n",
      "    Parameters:\n",
      "    x (int): The first integer.\n",
      "    y (int): The second integer.\n",
      "\n",
      "    Returns:\n",
      "    int: The sum of the two integers.\n",
      "    \n"
     ]
    }
   ],
   "source": [
    "def example_function(x, y):\n",
    "    \"\"\"\n",
    "    This function takes two integers and returns their sum.\n",
    "\n",
    "    Parameters:\n",
    "    x (int): The first integer.\n",
    "    y (int): The second integer.\n",
    "\n",
    "    Returns:\n",
    "    int: The sum of the two integers.\n",
    "    \"\"\"\n",
    "    return x + y\n",
    "\n",
    "# Print docstring\n",
    "print(example_function.__doc__)"
   ]
  },
  {
   "cell_type": "code",
   "execution_count": null,
   "id": "5c74cbf6",
   "metadata": {},
   "outputs": [],
   "source": []
  }
 ],
 "metadata": {
  "kernelspec": {
   "display_name": "base",
   "language": "python",
   "name": "python3"
  },
  "language_info": {
   "codemirror_mode": {
    "name": "ipython",
    "version": 3
   },
   "file_extension": ".py",
   "mimetype": "text/x-python",
   "name": "python",
   "nbconvert_exporter": "python",
   "pygments_lexer": "ipython3",
   "version": "3.12.7"
  }
 },
 "nbformat": 4,
 "nbformat_minor": 5
}
