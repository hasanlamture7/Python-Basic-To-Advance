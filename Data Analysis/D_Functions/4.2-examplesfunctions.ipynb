{
 "cells": [
  {
   "cell_type": "markdown",
   "metadata": {},
   "source": [
    "#### Functions Examples\n"
   ]
  },
  {
   "cell_type": "markdown",
   "metadata": {},
   "source": [
    "#### Example 1: Temperature Conversion"
   ]
  },
  {
   "cell_type": "code",
   "execution_count": null,
   "metadata": {},
   "outputs": [],
   "source": [
    "def convert_temperature(temp,unit):\n",
    "    \"\"\"Convert the celsius to Fahrenite && Fahrenite to celsius\"\"\"\n",
    "    if unit=='C':\n",
    "        return temp *9/5 + 32  #celsius to Fahrenite\n",
    "    elif unit=='F':\n",
    "        return (temp-32) * 5/9  #Fahrenite to celsius\n",
    "    else:\n",
    "        return None\n",
    "print(convert_temperature(25,'C'))\n",
    "print(convert_temperature(77,'F'))"
   ]
  },
  {
   "cell_type": "markdown",
   "metadata": {},
   "source": [
    "##### Example 2: Password Strength Checker"
   ]
  },
  {
   "cell_type": "code",
   "execution_count": null,
   "metadata": {},
   "outputs": [],
   "source": [
    "def strong_week_password(password):\n",
    "    \"\"\"It is to check password is strong or not \"\"\"\n",
    "    if len(password) <8:\n",
    "        return False\n",
    "    elif not any(char.islower() for char in password):\n",
    "        return False\n",
    "    elif not any(char.isupper() for char in password):\n",
    "        return False\n",
    "    elif not any(char.isdigit() for char in password):\n",
    "        return False\n",
    "    elif not any(char in \"!@#$%^&*()_+\" for char in password):\n",
    "        return False\n",
    "    else :\n",
    "        return True\n",
    "print(f\"{strong_week_password(\"WeekPassword\")} This password is week\")\n",
    "print(f\"{strong_week_password(\"Strong2!Password\")} This password is strong\")"
   ]
  },
  {
   "cell_type": "markdown",
   "metadata": {},
   "source": [
    "##### Example 3: Calculate the Total Cost Of Items In a Shopping Cart"
   ]
  },
  {
   "cell_type": "code",
   "execution_count": null,
   "metadata": {},
   "outputs": [],
   "source": [
    "def total_cost_items(cart):\n",
    "    \"\"\"It is to check the total cost of the cart\"\"\"\n",
    "    total_cost=0\n",
    "    for item in cart:\n",
    "        total_cost+=item['cost']*item['quantity']\n",
    "    return total_cost\n",
    "\n",
    "cart=[\n",
    "    {'name':'Banana','cost':2,'quantity':3},\n",
    "    {'name':'Mango','cost':5,'quantity':6},\n",
    "    {'name':'kivi','cost':3,'quantity':8},\n",
    "]\n",
    "total_cost=total_cost_items(cart)\n",
    "print(f\"Your Total Price is  {total_cost}\")"
   ]
  },
  {
   "cell_type": "markdown",
   "metadata": {},
   "source": [
    "##### Example 4: Check IF a String Is Palindrome"
   ]
  },
  {
   "cell_type": "code",
   "execution_count": null,
   "metadata": {},
   "outputs": [],
   "source": [
    "def is_palindrome(s):\n",
    "    s=s.lower().replace(\" \",\"\")\n",
    "    return s==s[::-1]\n",
    "print(is_palindrome(\"A man a plan a canal panama\"))\n",
    "print(is_palindrome(\"Hello\"))"
   ]
  },
  {
   "cell_type": "markdown",
   "metadata": {},
   "source": [
    "##### Example 5: Calculate the factorials of a number using recursion"
   ]
  },
  {
   "cell_type": "code",
   "execution_count": null,
   "metadata": {},
   "outputs": [],
   "source": [
    "def factorial(n):\n",
    "    if n==0:\n",
    "        return 1\n",
    "    else:\n",
    "        return n * factorial(n-1)\n",
    "print(factorial(10))"
   ]
  },
  {
   "cell_type": "markdown",
   "metadata": {},
   "source": [
    "##### Example 6: A Function To Read A File and count the frequency of each word"
   ]
  },
  {
   "cell_type": "code",
   "execution_count": null,
   "metadata": {},
   "outputs": [],
   "source": [
    "def word_count_in(filepath):\n",
    "    word_count={}\n",
    "    with open(filepath,'r') as file:\n",
    "        for lines in file:\n",
    "            words=lines.split()\n",
    "            for word in words:\n",
    "                word=word.lower()\n",
    "                word_count[word]=word_count.get(word,0) +1\n",
    "    return word_count\n",
    "\n",
    "filepath='sample.txt'\n",
    "word_frequency=word_count_in(filepath)\n",
    "print(word_frequency)\n",
    "\n"
   ]
  },
  {
   "cell_type": "markdown",
   "metadata": {},
   "source": [
    "##### Example 7: Validate Email Address"
   ]
  },
  {
   "cell_type": "code",
   "execution_count": null,
   "metadata": {},
   "outputs": [],
   "source": [
    "import re\n",
    "\n",
    "# Email validation function\n",
    "def is_valid_email(email):\n",
    "    \"\"\"This function checks if the email is valid.\"\"\"\n",
    "    pattern = r'^[a-zA-Z0-9_.+-]+@[a-zA-Z0-9-]+\\.[a-zA-Z0-9-.]+$'\n",
    "    return re.match(pattern, email) is not None\n",
    "\n",
    "# Calling the function\n",
    "print(is_valid_email(\"test@example.com\"))  # Output: True\n",
    "print(is_valid_email(\"invalid-email\"))  # Output: False\n"
   ]
  },
  {
   "cell_type": "code",
   "execution_count": null,
   "metadata": {},
   "outputs": [],
   "source": [
    "def calculator(a,b,exp):\n",
    "    \"\"\"It is simple calculator app to perform some operation\"\"\"\n",
    "    if exp==\"+\":\n",
    "        return a+b\n",
    "    elif exp==\"-\":\n",
    "        return a-b\n",
    "    elif exp==\"*\":\n",
    "        return a*b\n",
    "    elif exp==\"/\":\n",
    "        return a/b\n",
    "    else:\n",
    "        return \"Enter a valid Operation To perform \"\n",
    "\n",
    "exp=input(\"Enter a valid Expression +-*/ to perfom operation\")\n",
    "a=int(input(\"Enter a First number\"))\n",
    "b=int(input(\"Enter a second number\"))\n",
    "\n",
    "calculator(a,b,exp)"
   ]
  },
  {
   "cell_type": "code",
   "execution_count": 15,
   "metadata": {},
   "outputs": [
    {
     "name": "stdout",
     "output_type": "stream",
     "text": [
      "1.Print all books 2.Remove A book 3.Add a book 4.Update a book\n"
     ]
    },
    {
     "data": {
      "text/plain": [
       "['APJAbdulkalam', 'The Secerate', 'Eat that frog']"
      ]
     },
     "execution_count": 15,
     "metadata": {},
     "output_type": "execute_result"
    }
   ],
   "source": [
    "def library(books,operation):\n",
    "\n",
    "    if operation==1:\n",
    "        return books\n",
    "    elif operation==2:\n",
    "        removes=int(input(\"Enter a book to remove\"))\n",
    "        books=books.remove(books[removes])\n",
    "        return books\n",
    "    elif operation==3:\n",
    "        add=input(\"Enter the name of the book\")\n",
    "        books=books.append(add)\n",
    "        return books\n",
    "    elif operation==4:\n",
    "        updates=input(\"Enter a name of the book to Update\")\n",
    "        books=books.update(books[updates])\n",
    "        return books\n",
    "    else:\n",
    "        return \"Enter a valid Experation \"\n",
    "\n",
    "books=[\"APJAbdulkalam\",\"The Secerate\",\"Eat that frog\"]\n",
    "print(\"1.Print all books 2.Remove A book 3.Add a book 4.Update a book\")\n",
    "operation=int(input('Enter a Number perform a task'))\n",
    "library(books,operation)\n"
   ]
  },
  {
   "cell_type": "code",
   "execution_count": null,
   "metadata": {},
   "outputs": [],
   "source": []
  }
 ],
 "metadata": {
  "kernelspec": {
   "display_name": "base",
   "language": "python",
   "name": "python3"
  },
  "language_info": {
   "codemirror_mode": {
    "name": "ipython",
    "version": 3
   },
   "file_extension": ".py",
   "mimetype": "text/x-python",
   "name": "python",
   "nbconvert_exporter": "python",
   "pygments_lexer": "ipython3",
   "version": "3.12.7"
  }
 },
 "nbformat": 4,
 "nbformat_minor": 2
}
