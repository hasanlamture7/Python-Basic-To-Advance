{
 "cells": [
  {
   "cell_type": "markdown",
   "metadata": {},
   "source": [
    "# Module 3: Data Structures Assignments\n",
    "## Lesson 3.3: Sets\n",
    "### Assignment 1: Creating and Accessing Sets\n",
    "\n",
    "Create a set with the first 10 positive integers. Print the set.\n",
    "\n",
    "### Assignment 2: Adding and Removing Elements\n",
    "\n",
    "Add the number 11 to the set created in Assignment 1. Then remove the number 1 from the set. Print the modified set.\n",
    "\n",
    "### Assignment 3: Set Operations\n",
    "\n",
    "Create two sets: one with the first 5 positive integers and another with the first 5 even integers. Perform and print the results of union, intersection, difference, and symmetric difference operations on these sets.\n",
    "\n",
    "### Assignment 4: Set Comprehensions\n",
    "\n",
    "Create a new set containing the squares of the first 10 positive integers using a set comprehension. Print the new set.\n",
    "\n",
    "### Assignment 5: Filtering Sets\n",
    "\n",
    "Create a new set containing only the even numbers from the set created in Assignment 1 using a set comprehension. Print the new set.\n",
    "\n",
    "### Assignment 6: Set Methods\n",
    "\n",
    "Create a set with duplicate elements and remove the duplicates using set methods. Print the modified set.\n",
    "\n",
    "### Assignment 7: Subsets and Supersets\n",
    "\n",
    "Create two sets: one with the first 5 positive integers and another with the first 3 positive integers. Check if the second set is a subset of the first set and if the first set is a superset of the second set. Print the results.\n",
    "\n",
    "### Assignment 8: Frozenset\n",
    "\n",
    "Create a frozenset with the first 5 positive integers. Print the frozenset.\n",
    "\n",
    "### Assignment 9: Set and List Conversion\n",
    "\n",
    "Create a set with the first 5 positive integers. Convert it to a list, append the number 6, and convert it back to a set. Print the resulting set.\n",
    "\n",
    "### Assignment 10: Set and Dictionary\n",
    "\n",
    "Create a dictionary with set keys and integer values. Print the dictionary.\n",
    "\n",
    "### Assignment 11: Iterating Over Sets\n",
    "\n",
    "Create a set and iterate over the elements, printing each element.\n",
    "\n",
    "### Assignment 12: Removing Elements from Sets\n",
    "\n",
    "Create a set and remove elements from it until it is empty. Print the set after each removal.\n",
    "\n",
    "### Assignment 13: Set Symmetric Difference Update\n",
    "\n",
    "Create two sets and update the first set with the symmetric difference of the two sets. Print the modified first set.\n",
    "\n",
    "### Assignment 14: Set Membership Testing\n",
    "\n",
    "Create a set and test if certain elements are present in the set. Print the results.\n",
    "\n",
    "### Assignment 15: Set of Tuples\n",
    "\n",
    "Create a set containing tuples, where each tuple contains two elements. Print the set."
   ]
  },
  {
   "cell_type": "markdown",
   "id": "ad5cf257",
   "metadata": {},
   "source": [
    "Q 1.Create a set with the first 10 positive integers. Print the set."
   ]
  },
  {
   "cell_type": "code",
   "execution_count": 5,
   "id": "101af0e9",
   "metadata": {},
   "outputs": [
    {
     "name": "stdout",
     "output_type": "stream",
     "text": [
      "{1, 2, 3, 4, 5, 6, 7, 8, 9, 10}\n"
     ]
    }
   ],
   "source": [
    "set1={1,2,3,4,5,6,7,8,9,10}\n",
    "print(set1)"
   ]
  },
  {
   "cell_type": "markdown",
   "id": "d6c24a49",
   "metadata": {},
   "source": [
    "Q2 .Add the number 11 to the set created in Assignment 1. Then remove the number 1 from the set. Print the modified set.\n",
    "\n"
   ]
  },
  {
   "cell_type": "code",
   "execution_count": 6,
   "id": "ec677427",
   "metadata": {},
   "outputs": [
    {
     "name": "stdout",
     "output_type": "stream",
     "text": [
      "{2, 3, 4, 5, 6, 7, 8, 9, 10, 11}\n"
     ]
    }
   ],
   "source": [
    "set1.add(11)\n",
    "set1.remove(1)\n",
    "print(set1)"
   ]
  },
  {
   "cell_type": "markdown",
   "id": "025315ac",
   "metadata": {},
   "source": [
    "Q 3.Create two sets: one with the first 5 positive integers and another with the first 5 even integers. Perform and print the results of union, intersection, difference, and symmetric difference operations on these sets."
   ]
  },
  {
   "cell_type": "code",
   "execution_count": 10,
   "id": "3fc56a35",
   "metadata": {},
   "outputs": [
    {
     "name": "stdout",
     "output_type": "stream",
     "text": [
      "The set one is {1, 2, 3, 4, 5}\n",
      "The set Two is {2, 4, 6, 8, 10}\n",
      "The Union of sets are {1, 2, 3, 4, 5, 6, 8, 10}\n",
      "The Intersection of sets are {2, 4}\n",
      "The difference of sets are {1, 3, 5}\n",
      "The 2nd difference of sets are {8, 10, 6}\n",
      "The Symmetric difference of sets are {1, 3, 5, 6, 8, 10}\n"
     ]
    }
   ],
   "source": [
    "set_1=set(range(1,6))\n",
    "print(f\"The set one is {set_1}\")\n",
    "set_2=set(range(2,11,2))\n",
    "print(f\"The set Two is {set_2}\")\n",
    "uni=set_1.union(set_2)\n",
    "inter=set_1.intersection(set_2)\n",
    "diff=set_1.difference(set_2)\n",
    "diff_2=set_2.difference(set_1)\n",
    "diff_sym=set_1.symmetric_difference(set_2)\n",
    "print(f\"The Union of sets are {uni}\")\n",
    "print(f\"The Intersection of sets are {inter}\")\n",
    "print(f\"The difference of sets are {diff}\")\n",
    "print(f\"The 2nd difference of sets are {diff_2}\")\n",
    "print(f\"The Symmetric difference of sets are {diff_sym}\")\n"
   ]
  },
  {
   "cell_type": "markdown",
   "id": "e29d9274",
   "metadata": {},
   "source": [
    "Q 4.Create a new set containing the squares of the first 10 positive integers using a set comprehension. Print the new set."
   ]
  },
  {
   "cell_type": "code",
   "execution_count": 11,
   "id": "398b6431",
   "metadata": {},
   "outputs": [
    {
     "data": {
      "text/plain": [
       "{1, 4, 9, 16, 25, 36, 49, 64, 81, 100}"
      ]
     },
     "execution_count": 11,
     "metadata": {},
     "output_type": "execute_result"
    }
   ],
   "source": [
    "set_com={x*x for x in range(1,11)}\n",
    "set_com"
   ]
  },
  {
   "cell_type": "markdown",
   "id": "390d1ebc",
   "metadata": {},
   "source": [
    "Q 5.Create a new set containing only the even numbers from the set created in Assignment 1 using a set comprehension. Print the new set."
   ]
  },
  {
   "cell_type": "code",
   "execution_count": 12,
   "id": "a6765870",
   "metadata": {},
   "outputs": [
    {
     "data": {
      "text/plain": [
       "{2, 4, 6, 8, 10}"
      ]
     },
     "execution_count": 12,
     "metadata": {},
     "output_type": "execute_result"
    }
   ],
   "source": [
    "set_com2={x for x in set1 if x%2==0}\n",
    "set_com2"
   ]
  },
  {
   "cell_type": "markdown",
   "id": "4fceee6d",
   "metadata": {},
   "source": [
    "Q 6.Create a set with duplicate elements and remove the duplicates using set methods. Print the modified set."
   ]
  },
  {
   "cell_type": "code",
   "execution_count": 14,
   "id": "440e7c97",
   "metadata": {},
   "outputs": [
    {
     "name": "stdout",
     "output_type": "stream",
     "text": [
      "{1, 2, 3, 4, 5, 6, 7, 8}\n"
     ]
    }
   ],
   "source": [
    "set_dup={1,2,3,1,1,2,3,4,5,6,5,6,7,8,5,6}\n",
    "unique=set(set_dup)\n",
    "print(unique)"
   ]
  },
  {
   "cell_type": "markdown",
   "id": "dfd85c3a",
   "metadata": {},
   "source": [
    "Q 7.Create two sets: one with the first 5 positive integers and another with the first 3 positive integers. Check if the second set is a subset of the first set and if the first set is a superset of the second set. Print the results."
   ]
  },
  {
   "cell_type": "code",
   "execution_count": 17,
   "id": "5ac4a29a",
   "metadata": {},
   "outputs": [
    {
     "name": "stdout",
     "output_type": "stream",
     "text": [
      "True\n",
      "True\n"
     ]
    }
   ],
   "source": [
    "first={1,2,3,4,5}\n",
    "second={1,2,3}\n",
    "is_subset=second.issubset(first)\n",
    "print(is_subset)\n",
    "is_superset=first.issuperset(second)\n",
    "print(is_superset)"
   ]
  },
  {
   "cell_type": "markdown",
   "id": "3c27c3e4",
   "metadata": {},
   "source": [
    "Q 8.Create a frozenset with the first 5 positive integers. Print the frozenset."
   ]
  },
  {
   "cell_type": "code",
   "execution_count": 18,
   "id": "77bed731",
   "metadata": {},
   "outputs": [
    {
     "name": "stdout",
     "output_type": "stream",
     "text": [
      "The frozen set is frozenset({1, 2, 3, 4, 5})\n"
     ]
    }
   ],
   "source": [
    "fs=frozenset(range(1,6))\n",
    "print(f\"The frozen set is {fs}\")"
   ]
  },
  {
   "cell_type": "markdown",
   "id": "78acd820",
   "metadata": {},
   "source": [
    "Q 9.Create a set with the first 5 positive integers. Convert it to a list, append the number 6, and convert it back to a set. Print the resulting set."
   ]
  },
  {
   "cell_type": "code",
   "execution_count": 28,
   "id": "253138c8",
   "metadata": {},
   "outputs": [
    {
     "name": "stdout",
     "output_type": "stream",
     "text": [
      "The converted set into list and append 6 [1, 2, 3, 4, 5, 6]\n",
      "The converted list into set{1, 2, 3, 4, 5, 6}\n"
     ]
    }
   ],
   "source": [
    "lis=set(range(1,6))\n",
    "set_list=list(lis)\n",
    "set_list.append(6)\n",
    "lis=set(set_list)\n",
    "print(f\"The converted set into list and append 6 {set_list}\")\n",
    "print(f\"The converted list into set{lis}\")\n",
    "\n"
   ]
  },
  {
   "cell_type": "markdown",
   "id": "f56b8739",
   "metadata": {},
   "source": [
    "Q 10.Create a dictionary with set keys and integer values. Print the dictionary."
   ]
  },
  {
   "cell_type": "code",
   "execution_count": 29,
   "id": "4a275a68",
   "metadata": {},
   "outputs": [
    {
     "name": "stdout",
     "output_type": "stream",
     "text": [
      "{frozenset({1, 3}): 4, frozenset({5, 6}): 7, frozenset({8, 9}): 10}\n"
     ]
    }
   ],
   "source": [
    "d={\n",
    "    frozenset({1,3}):4,\n",
    "    frozenset({5,6}):7,\n",
    "    frozenset({8,9}):10\n",
    "}\n",
    "print(d)"
   ]
  },
  {
   "cell_type": "markdown",
   "id": "d9c3511b",
   "metadata": {},
   "source": [
    "Q 11.Create a set and iterate over the elements, printing each element."
   ]
  },
  {
   "cell_type": "code",
   "execution_count": 30,
   "id": "148db215",
   "metadata": {},
   "outputs": [
    {
     "name": "stdout",
     "output_type": "stream",
     "text": [
      "1\n",
      "2\n",
      "3\n",
      "4\n",
      "5\n",
      "6\n",
      "7\n",
      "8\n",
      "9\n",
      "10\n"
     ]
    }
   ],
   "source": [
    "s=set(range(1,11))\n",
    "for i in s:\n",
    "    print(i)"
   ]
  },
  {
   "cell_type": "markdown",
   "id": "dc610ad9",
   "metadata": {},
   "source": [
    "Q 12.Create a set and remove elements from it until it is empty. Print the set after each removal."
   ]
  },
  {
   "cell_type": "code",
   "execution_count": 35,
   "id": "b6a44eca",
   "metadata": {},
   "outputs": [
    {
     "name": "stdout",
     "output_type": "stream",
     "text": [
      "{2, 3, 4, 5, 6, 7, 8, 9, 10}\n",
      "{3, 4, 5, 6, 7, 8, 9, 10}\n",
      "{4, 5, 6, 7, 8, 9, 10}\n",
      "{5, 6, 7, 8, 9, 10}\n",
      "{6, 7, 8, 9, 10}\n",
      "{7, 8, 9, 10}\n",
      "{8, 9, 10}\n",
      "{9, 10}\n",
      "{10}\n",
      "set()\n"
     ]
    }
   ],
   "source": [
    "s=set(range(1,11))\n",
    "while s:\n",
    "    s.pop()\n",
    "    print(s)"
   ]
  },
  {
   "cell_type": "markdown",
   "id": "209f5e91",
   "metadata": {},
   "source": [
    "Q 13.Create two sets and update the first set with the symmetric difference of the two sets. Print the modified first set.\n"
   ]
  },
  {
   "cell_type": "code",
   "execution_count": 45,
   "id": "0ab0fa55",
   "metadata": {},
   "outputs": [
    {
     "name": "stdout",
     "output_type": "stream",
     "text": [
      "{1, 2, 4, 5}\n"
     ]
    }
   ],
   "source": [
    "q={1,2,3}\n",
    "r={3,4,5}\n",
    "q.symmetric_difference_update(r)\n",
    "print(q)\n"
   ]
  },
  {
   "cell_type": "markdown",
   "id": "712b3812",
   "metadata": {},
   "source": [
    "Q14.Create a set and test if certain elements are present in the set. Print the results."
   ]
  },
  {
   "cell_type": "code",
   "execution_count": 47,
   "id": "742bdad3",
   "metadata": {},
   "outputs": [
    {
     "name": "stdout",
     "output_type": "stream",
     "text": [
      "True\n",
      "False\n"
     ]
    }
   ],
   "source": [
    "s={1,2,3,4,5,6,7,8,9,10}\n",
    "print( 3 in s)\n",
    "print(11 in s)"
   ]
  },
  {
   "cell_type": "markdown",
   "id": "14554304",
   "metadata": {},
   "source": [
    "Q 15.Create a set containing tuples, where each tuple contains two elements. Print the set."
   ]
  },
  {
   "cell_type": "code",
   "execution_count": 49,
   "metadata": {},
   "outputs": [
    {
     "name": "stdout",
     "output_type": "stream",
     "text": [
      "{(1, 2), (3, 4), (7, 8), (5, 6)}\n"
     ]
    }
   ],
   "source": [
    "s={(1,2),(3,4),(5,6),(7,8)}\n",
    "print(s)"
   ]
  }
 ],
 "metadata": {
  "kernelspec": {
   "display_name": "base",
   "language": "python",
   "name": "python3"
  },
  "language_info": {
   "codemirror_mode": {
    "name": "ipython",
    "version": 3
   },
   "file_extension": ".py",
   "mimetype": "text/x-python",
   "name": "python",
   "nbconvert_exporter": "python",
   "pygments_lexer": "ipython3",
   "version": "3.12.7"
  }
 },
 "nbformat": 4,
 "nbformat_minor": 5
}
