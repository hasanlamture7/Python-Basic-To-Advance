{
 "cells": [
  {
   "cell_type": "markdown",
   "metadata": {},
   "source": [
    "# Lesson 1.2: Python Basics\n",
    "## Topics Covered:\n",
    "- Syntax and Semantics\n",
    "- Variables and Data Types\n",
    "- Basic Operators (Arithmetic, Comparison, Logical)\n"
   ]
  },
  {
   "cell_type": "markdown",
   "metadata": {},
   "source": [
    "## 1. Syntax and Semantics\n",
    "\n",
    "**Question 1:** Write a Python program to print \"Hello, World!\"."
   ]
  },
  {
   "cell_type": "code",
   "execution_count": 1,
   "metadata": {},
   "outputs": [
    {
     "name": "stdout",
     "output_type": "stream",
     "text": [
      "Hello,word!\n"
     ]
    }
   ],
   "source": [
    "print(\"Hello,word!\")"
   ]
  },
  {
   "cell_type": "markdown",
   "metadata": {},
   "source": [
    "**Question 2:** Write a Python program that takes a user input and prints it."
   ]
  },
  {
   "cell_type": "code",
   "execution_count": 2,
   "metadata": {},
   "outputs": [
    {
     "name": "stdout",
     "output_type": "stream",
     "text": [
      "12\n"
     ]
    }
   ],
   "source": [
    "a=int(input(\"Enter any number\"))\n",
    "print(a)"
   ]
  },
  {
   "cell_type": "markdown",
   "metadata": {},
   "source": [
    "**Question 3:** Write a Python program to check if a number is positive, negative, or zero."
   ]
  },
  {
   "cell_type": "code",
   "execution_count": 6,
   "metadata": {},
   "outputs": [
    {
     "name": "stdout",
     "output_type": "stream",
     "text": [
      "Number is negative\n"
     ]
    }
   ],
   "source": [
    "a=int(input(\"Enter your number\"))\n",
    "if a>0:\n",
    "    print(\"num is positive\")\n",
    "elif a<0:\n",
    "    print(\"Number is negative\")\n",
    "else:\n",
    "    print(\"Number is zero\")"
   ]
  },
  {
   "cell_type": "markdown",
   "metadata": {},
   "source": [
    "**Question 4:** Write a Python program to find the largest of three numbers."
   ]
  },
  {
   "cell_type": "code",
   "execution_count": 11,
   "metadata": {},
   "outputs": [
    {
     "name": "stdout",
     "output_type": "stream",
     "text": [
      "Greater is,10\n"
     ]
    }
   ],
   "source": [
    "a=10\n",
    "b=2\n",
    "c=4\n",
    "if a>=b and a>=c:\n",
    "    greater=a\n",
    "elif b>=a and b>=c:\n",
    "    greater=b\n",
    "else:\n",
    "    greater=c\n",
    "print(f\"Greater is,{greater}\")"
   ]
  },
  {
   "cell_type": "markdown",
   "metadata": {},
   "source": [
    "**Question 5:** Write a Python program to calculate the factorial of a number."
   ]
  },
  {
   "cell_type": "code",
   "execution_count": 14,
   "metadata": {},
   "outputs": [
    {
     "name": "stdout",
     "output_type": "stream",
     "text": [
      "Factorial of 5 is 120\n"
     ]
    }
   ],
   "source": [
    "def factorial(n):\n",
    "    if n==0:\n",
    "        return 1\n",
    "    else:\n",
    "        return n * factorial(n-1)\n",
    "num=int(input(\"Enter the number to check factorial\"))\n",
    "print(f\"Factorial of {num} is {factorial(num)}\")"
   ]
  },
  {
   "cell_type": "markdown",
   "metadata": {},
   "source": [
    "## 2. Variables and Data Types\n",
    "\n",
    "**Question 6:** Create variables of different data types: integer, float, string, and boolean. Print their values and types."
   ]
  },
  {
   "cell_type": "code",
   "execution_count": 22,
   "metadata": {},
   "outputs": [
    {
     "name": "stdout",
     "output_type": "stream",
     "text": [
      "Age  12  <class 'int'>\n",
      "Name  Hasan  <class 'str'>\n",
      "height  5.9  <class 'float'>\n",
      "Boy  True  <class 'bool'>\n"
     ]
    }
   ],
   "source": [
    "age=12\n",
    "name=\"Hasan\"\n",
    "height=5.9\n",
    "is_boy=True\n",
    "print(f\"Age  {age}  {type(age)}\")\n",
    "print(f\"Name  {name}  {type(name)}\")\n",
    "print(f\"height  {height}  {type(height)}\")\n",
    "print(f\"Boy  {is_boy}  {type(is_boy)}\")"
   ]
  },
  {
   "cell_type": "markdown",
   "metadata": {},
   "source": [
    "**Question 7:** Write a Python program to swap the values of two variables."
   ]
  },
  {
   "cell_type": "code",
   "execution_count": 30,
   "metadata": {},
   "outputs": [
    {
     "name": "stdout",
     "output_type": "stream",
     "text": [
      "Before swap A is 10 B is 20\n",
      "After swap A is 20 and B is 20\n"
     ]
    }
   ],
   "source": [
    "a=10\n",
    "b=20\n",
    "print(f\"Before swap A is {a} B is {b}\")\n",
    "\n",
    "a=b\n",
    "b=a\n",
    "print(f\"After swap A is {a} and B is {b}\")"
   ]
  },
  {
   "cell_type": "markdown",
   "metadata": {},
   "source": [
    "**Question 8:** Write a Python program to convert Celsius to Fahrenheit."
   ]
  },
  {
   "cell_type": "code",
   "execution_count": null,
   "metadata": {},
   "outputs": [
    {
     "name": "stdout",
     "output_type": "stream",
     "text": [
      "The 12 celcius to Fahrenheit is 53.6 \n"
     ]
    }
   ],
   "source": [
    "#take input from user \n",
    "degree=int(input(\"Enter a celcius to convert in fahrenheit\"))\n",
    "# convert the celsius into fahrenheit\n",
    "fahrenheit=(degree * 9/5)+32\n",
    "\n",
    "print(f\"The {degree} celsius to Fahrenheit is {fahrenheit} \")"
   ]
  },
  {
   "cell_type": "markdown",
   "metadata": {},
   "source": [
    "**Question 9:** Write a Python program to concatenate two strings."
   ]
  },
  {
   "cell_type": "code",
   "execution_count": 37,
   "metadata": {},
   "outputs": [
    {
     "name": "stdout",
     "output_type": "stream",
     "text": [
      "Hasan Lamture\n",
      "Uttam Giri\n"
     ]
    }
   ],
   "source": [
    "string_concatinate=\"Hasan\"+\" Lamture\"\n",
    "print(string_concatinate)\n",
    "Name = \"Uttam\"\n",
    "Surname=\" Giri\"\n",
    "print(Name+Surname)\n"
   ]
  },
  {
   "cell_type": "markdown",
   "metadata": {},
   "source": [
    "**Question 10:** Write a Python program to check if a variable is of a specific data type."
   ]
  },
  {
   "cell_type": "code",
   "execution_count": 42,
   "metadata": {},
   "outputs": [
    {
     "name": "stdout",
     "output_type": "stream",
     "text": [
      "The 12.4 is float\n"
     ]
    }
   ],
   "source": [
    "var=12.4\n",
    "if isinstance(var,float): #isinstance is a inbuilt function in python to check type of var,etc\n",
    "    print(f\"The {var} is float\")\n",
    "else:\n",
    "    print(f\"The {var} is not float\" )"
   ]
  },
  {
   "cell_type": "markdown",
   "metadata": {},
   "source": [
    "## 3. Basic Operators (Arithmetic, Comparison, Logical)\n",
    "\n",
    "**Question 11:** Write a Python program to perform arithmetic operations: addition, subtraction, multiplication, and division."
   ]
  },
  {
   "cell_type": "code",
   "execution_count": 4,
   "metadata": {},
   "outputs": [
    {
     "name": "stdout",
     "output_type": "stream",
     "text": [
      "Addition of 10+5 is 15\n",
      "Substraction  of 10-5 is 5\n",
      "multiplication of 10*5 is 50\n",
      "division of 10/5 is 2.0\n"
     ]
    }
   ],
   "source": [
    "a=10\n",
    "b=5\n",
    "addition=a+b\n",
    "substraction=a-b\n",
    "multiplication=a*b\n",
    "division=a/b\n",
    "print(f\"Addition of {a}+{b} is {a+b}\")\n",
    "print(f\"Substraction  of {a}-{b} is {a-b}\")\n",
    "print(f\"multiplication of {a}*{b} is {a*b}\")\n",
    "print(f\"division of {a}/{b} is {a/b}\")"
   ]
  },
  {
   "cell_type": "markdown",
   "metadata": {},
   "source": [
    "**Question 12:** Write a Python program to demonstrate comparison operators: equal to, not equal to, greater than, less than."
   ]
  },
  {
   "cell_type": "code",
   "execution_count": 9,
   "metadata": {},
   "outputs": [
    {
     "name": "stdout",
     "output_type": "stream",
     "text": [
      "True\n",
      "False\n",
      "False\n",
      "False\n"
     ]
    }
   ],
   "source": [
    "a=10\n",
    "b=10\n",
    "print(a==b)\n",
    "print(a!=b)\n",
    "print(a>b)\n",
    "print(a<b)"
   ]
  },
  {
   "cell_type": "markdown",
   "metadata": {},
   "source": [
    "**Question 13:** Write a Python program to demonstrate logical operators: and, or, not."
   ]
  },
  {
   "cell_type": "code",
   "execution_count": 17,
   "metadata": {},
   "outputs": [
    {
     "name": "stdout",
     "output_type": "stream",
     "text": [
      "The a and B False\n",
      "The a or B False\n",
      "The a not   False\n"
     ]
    }
   ],
   "source": [
    "a=True\n",
    "b=False\n",
    "print(f\"The a and B {a and b}\")\n",
    "print(f\"The a or B {a and b}\")\n",
    "print(f\"The a not   {not a}\")\n"
   ]
  },
  {
   "cell_type": "markdown",
   "metadata": {},
   "source": [
    "**Question 14:** Write a Python program to calculate the square of a number."
   ]
  },
  {
   "cell_type": "code",
   "execution_count": 20,
   "metadata": {},
   "outputs": [
    {
     "name": "stdout",
     "output_type": "stream",
     "text": [
      "The square of number is 25\n"
     ]
    }
   ],
   "source": [
    "a=int(input(\"Enter the number to square\"))\n",
    "print(f\"The square of number is {a*a}\")"
   ]
  },
  {
   "cell_type": "markdown",
   "metadata": {},
   "source": [
    "**Question 15:** Write a Python program to check if a number is even or odd."
   ]
  },
  {
   "cell_type": "code",
   "execution_count": 24,
   "metadata": {},
   "outputs": [
    {
     "name": "stdout",
     "output_type": "stream",
     "text": [
      "23 odd Number\n"
     ]
    }
   ],
   "source": [
    "a=int(input(\"Enter the number to square\"))\n",
    "if a%2==0:\n",
    "    print(f\"{a} is Even \")\n",
    "else:\n",
    "    print(f\"{a} odd Number\")"
   ]
  },
  {
   "cell_type": "markdown",
   "metadata": {},
   "source": [
    "**Question 16:** Write a Python program to find the sum of the first n natural numbers."
   ]
  },
  {
   "cell_type": "code",
   "execution_count": 31,
   "metadata": {},
   "outputs": [
    {
     "name": "stdout",
     "output_type": "stream",
     "text": [
      "Sum of 5 natural numbers is 15\n"
     ]
    }
   ],
   "source": [
    "num=int(input(\"Enter the number find sum of first n natural numbers \"))\n",
    "sum=num*(num+1)//2\n",
    "print(f\"Sum of {num} natural numbers is {sum}\")"
   ]
  },
  {
   "cell_type": "markdown",
   "metadata": {},
   "source": [
    "**Question 17:** Write a Python program to check if a year is a leap year."
   ]
  },
  {
   "cell_type": "code",
   "execution_count": 27,
   "metadata": {},
   "outputs": [
    {
     "name": "stdout",
     "output_type": "stream",
     "text": [
      "1947 is not leap year\n"
     ]
    }
   ],
   "source": [
    "num=int(input(\"Enter a year \"))\n",
    "if (num %4==0 and num%100!=0 ) or num%400==0:\n",
    "    print(f\"{num} is Leap Year\")\n",
    "else:\n",
    "    print(f\"{num} is not leap year\")\n"
   ]
  },
  {
   "cell_type": "markdown",
   "metadata": {},
   "source": [
    "**Question 18:** Write a Python program to reverse a string."
   ]
  },
  {
   "cell_type": "code",
   "execution_count": 38,
   "metadata": {},
   "outputs": [
    {
     "name": "stdout",
     "output_type": "stream",
     "text": [
      "The water is reversed to retaw\n"
     ]
    }
   ],
   "source": [
    "name=input(\"Enter a string to reverse \")\n",
    "rev_name=name[::-1]\n",
    "print(f\"The {name} is reversed to {rev_name}\")\n"
   ]
  },
  {
   "cell_type": "markdown",
   "metadata": {},
   "source": [
    "**Question 19:** Write a Python program to check if a string is a palindrome."
   ]
  },
  {
   "cell_type": "code",
   "execution_count": 44,
   "metadata": {},
   "outputs": [
    {
     "name": "stdout",
     "output_type": "stream",
     "text": [
      "The mam is Palindrome String\n"
     ]
    }
   ],
   "source": [
    "name=input(\"Enter a string to reverse \")\n",
    "name=name.lower()\n",
    "rev_name=name[::-1]\n",
    "\n",
    "if rev_name==name:\n",
    "    print(f\"The {name} is Palindrome String\")\n",
    "else:\n",
    "    print(f\"The {name} is not Palindrome String\")"
   ]
  },
  {
   "cell_type": "markdown",
   "metadata": {},
   "source": [
    "**Question 20:** Write a Python program to sort a list of numbers in ascending order."
   ]
  },
  {
   "cell_type": "code",
   "execution_count": 56,
   "metadata": {},
   "outputs": [
    {
     "name": "stdout",
     "output_type": "stream",
     "text": [
      "Sorted list: [1, 2, 10, 12, 20, 30, 45]\n"
     ]
    }
   ],
   "source": [
    "numbers = [int(x) for x in input(\"Enter numbers separated by space: \").split()]\n",
    "numbers.sort()\n",
    "print(f\"Sorted list: {numbers}\")\n",
    "\n"
   ]
  },
  {
   "cell_type": "code",
   "execution_count": null,
   "metadata": {},
   "outputs": [],
   "source": []
  }
 ],
 "metadata": {
  "kernelspec": {
   "display_name": "base",
   "language": "python",
   "name": "python3"
  },
  "language_info": {
   "codemirror_mode": {
    "name": "ipython",
    "version": 3
   },
   "file_extension": ".py",
   "mimetype": "text/x-python",
   "name": "python",
   "nbconvert_exporter": "python",
   "pygments_lexer": "ipython3",
   "version": "3.12.7"
  }
 },
 "nbformat": 4,
 "nbformat_minor": 4
}
