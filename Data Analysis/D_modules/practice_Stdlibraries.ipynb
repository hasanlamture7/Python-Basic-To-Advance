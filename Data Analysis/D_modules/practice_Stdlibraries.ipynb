{
 "cells": [
  {
   "cell_type": "markdown",
   "metadata": {},
   "source": [
    "This is to practice the standard libraries in python"
   ]
  },
  {
   "cell_type": "code",
   "execution_count": 2,
   "metadata": {},
   "outputs": [
    {
     "name": "stdout",
     "output_type": "stream",
     "text": [
      "array('i', [1, 2, 3, 4, 5])\n"
     ]
    },
    {
     "data": {
      "text/plain": [
       "array.array"
      ]
     },
     "execution_count": 2,
     "metadata": {},
     "output_type": "execute_result"
    }
   ],
   "source": [
    "import array\n",
    "arr=array.array('i',[1,2,3,4,5])\n",
    "print(arr)\n",
    "type(arr)"
   ]
  },
  {
   "cell_type": "code",
   "execution_count": 5,
   "metadata": {},
   "outputs": [
    {
     "name": "stdout",
     "output_type": "stream",
     "text": [
      "4.0\n",
      "3.141592653589793\n"
     ]
    }
   ],
   "source": [
    "import math\n",
    "print(math.sqrt(16))\n",
    "\n",
    "print(math.pi)"
   ]
  },
  {
   "cell_type": "code",
   "execution_count": 11,
   "metadata": {},
   "outputs": [
    {
     "name": "stdout",
     "output_type": "stream",
     "text": [
      "2\n",
      "banana\n"
     ]
    }
   ],
   "source": [
    "import random\n",
    "print(random.randint(1,11))\n",
    "print(random.choice([\"apple\",\"banana\",\"pinapple\"]))"
   ]
  },
  {
   "cell_type": "code",
   "execution_count": 14,
   "metadata": {},
   "outputs": [
    {
     "name": "stdout",
     "output_type": "stream",
     "text": [
      "d:\\clone\\Python-Basic-To-Advance\\Data Analysis\\D_modules\n"
     ]
    }
   ],
   "source": [
    "#file and directory access through os libraries\n",
    "import os\n",
    "dict=os.getcwd()\n",
    "print(dict)"
   ]
  },
  {
   "cell_type": "code",
   "execution_count": null,
   "metadata": {},
   "outputs": [],
   "source": [
    "#for creating a new directory\n",
    "os.mkdir(\"test_dir.txt\")"
   ]
  },
  {
   "cell_type": "code",
   "execution_count": 18,
   "metadata": {},
   "outputs": [],
   "source": [
    "import shutil\n",
    "\n",
    "copyfile=shutil.copyfile(\"file.txt\",\"dicrectory.txt\")"
   ]
  },
  {
   "cell_type": "code",
   "execution_count": 22,
   "metadata": {},
   "outputs": [
    {
     "name": "stdout",
     "output_type": "stream",
     "text": [
      "{\"name\": \"Hasan\", \"RollNo\": 23}\n",
      "<class 'str'>\n",
      "{'name': 'Hasan', 'RollNo': 23}\n",
      "<class 'dict'>\n"
     ]
    }
   ],
   "source": [
    "#it is for data serialization \n",
    "import json\n",
    "\n",
    "dict_file={\"name\":\"Hasan\",\"RollNo\":23}\n",
    "json_file=json.dumps(dict_file)  #It is for loading the dict to json file \n",
    "print(json_file)\n",
    "print(type(json_file))\n",
    "\n",
    "dict_file1=json.loads(json_file) #It is for loading the data from json to dict \n",
    "print(dict_file1)\n",
    "print(type(dict_file1))"
   ]
  },
  {
   "cell_type": "code",
   "execution_count": 26,
   "metadata": {},
   "outputs": [
    {
     "name": "stdout",
     "output_type": "stream",
     "text": [
      "['Name', 'Age']\n",
      "['Hasan', '21']\n"
     ]
    }
   ],
   "source": [
    "\n",
    "#how to create the csv file use reder and write \n",
    "import csv\n",
    "\n",
    "with open(\"Csv_file.csv\",'w',newline='') as file:\n",
    "    writer=csv.writer(file)\n",
    "    writer.writerow([\"Name\",\"Age\"])\n",
    "    writer.writerow([\"Hasan\",21])\n",
    "\n",
    "with open(\"Csv_file.csv\",'r',newline='') as file:\n",
    "    reader=csv.reader(file)\n",
    "    for row in reader:\n",
    "        print(row)\n"
   ]
  },
  {
   "cell_type": "code",
   "execution_count": 31,
   "metadata": {},
   "outputs": [
    {
     "name": "stdout",
     "output_type": "stream",
     "text": [
      "2025-03-02 07:17:50.999149\n",
      "2025-03-01 07:17:50.999149\n"
     ]
    }
   ],
   "source": [
    "from datetime import datetime,timedelta\n",
    "\n",
    "datetime=datetime.now()\n",
    "print(datetime)\n",
    "\n",
    "yesterday=datetime-timedelta(days=1)\n",
    "print(yesterday)"
   ]
  },
  {
   "cell_type": "code",
   "execution_count": 32,
   "metadata": {},
   "outputs": [
    {
     "name": "stdout",
     "output_type": "stream",
     "text": [
      "1740880162.2587287\n",
      "1740880164.2596326\n"
     ]
    }
   ],
   "source": [
    "import time\n",
    "\n",
    "now=time.time()\n",
    "print(now)\n",
    "time.sleep(2)\n",
    "now=time.time()\n",
    "print(now)"
   ]
  },
  {
   "cell_type": "code",
   "execution_count": 39,
   "metadata": {},
   "outputs": [
    {
     "name": "stdout",
     "output_type": "stream",
     "text": [
      "123\n"
     ]
    }
   ],
   "source": [
    "# regular expression\n",
    "\n",
    "import re\n",
    "\n",
    "pattern=r'\\d+'\n",
    "text='There are 123 apples 456'\n",
    "match=re.search(pattern,text)\n",
    "print(match.group())"
   ]
  },
  {
   "cell_type": "code",
   "execution_count": null,
   "metadata": {},
   "outputs": [],
   "source": []
  }
 ],
 "metadata": {
  "kernelspec": {
   "display_name": "Python 3",
   "language": "python",
   "name": "python3"
  },
  "language_info": {
   "codemirror_mode": {
    "name": "ipython",
    "version": 3
   },
   "file_extension": ".py",
   "mimetype": "text/x-python",
   "name": "python",
   "nbconvert_exporter": "python",
   "pygments_lexer": "ipython3",
   "version": "3.13.1"
  }
 },
 "nbformat": 4,
 "nbformat_minor": 2
}
