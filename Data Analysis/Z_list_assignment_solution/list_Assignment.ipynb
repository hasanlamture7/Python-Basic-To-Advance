{
 "cells": [
  {
   "cell_type": "markdown",
   "metadata": {},
   "source": [
    "# Module 3: Data Structures Assignments\n",
    "## Lesson 3.1: Lists\n",
    "### Assignment 1: Creating and Accessing Lists\n",
    "\n",
    "Create a list of the first 20 positive integers. Print the list.\n",
    "\n",
    "### Assignment 2: Accessing List Elements\n",
    "\n",
    "Print the first, middle, and last elements of the list created in Assignment 1.\n",
    "\n",
    "### Assignment 3: List Slicing\n",
    "\n",
    "Print the first five elements, the last five elements, and the elements from index 5 to 15 of the list created in Assignment 1.\n",
    "\n",
    "### Assignment 4: List Comprehensions\n",
    "\n",
    "Create a new list containing the squares of the first 10 positive integers using a list comprehension. Print the new list.\n",
    "\n",
    "### Assignment 5: Filtering Lists\n",
    "\n",
    "Create a new list containing only the even numbers from the list created in Assignment 1 using a list comprehension. Print the new list.\n",
    "\n",
    "### Assignment 6: List Methods\n",
    "\n",
    "Create a list of random numbers and sort it in ascending and descending order. Remove the duplicates from the list and print the modified list.\n",
    "\n",
    "### Assignment 7: Nested Lists\n",
    "\n",
    "Create a nested list representing a 3x3 matrix and print the matrix. Access and print the element at the second row and third column.\n",
    "\n",
    "### Assignment 8: List of Dictionaries\n",
    "\n",
    "Create a list of dictionaries where each dictionary represents a student with keys 'name' and 'score'. Sort the list of dictionaries by the 'score' in descending order and print the sorted list.\n",
    "\n",
    "### Assignment 9: Matrix Transposition\n",
    "\n",
    "Write a function that takes a 3x3 matrix (nested list) as input and returns its transpose. Print the original and transposed matrices.\n",
    "\n",
    "### Assignment 10: Flattening a Nested List\n",
    "\n",
    "Write a function that takes a nested list and flattens it into a single list. Print the original and flattened lists.\n",
    "\n",
    "### Assignment 11: List Manipulation\n",
    "\n",
    "Create a list of the first 10 positive integers. Remove the elements at indices 2, 4, and 6, and insert the element '99' at index 5. Print the modified list.\n",
    "\n",
    "### Assignment 12: List Zipping\n",
    "\n",
    "Create two lists of the same length. Use the `zip` function to combine these lists into a list of tuples and print the result.\n",
    "\n",
    "### Assignment 13: List Reversal\n",
    "\n",
    "Write a function that takes a list and returns a new list with the elements in reverse order. Print the original and reversed lists.\n",
    "\n",
    "### Assignment 14: List Rotation\n",
    "\n",
    "Write a function that rotates a list by n positions. Print the original and rotated lists.\n",
    "\n",
    "### Assignment 15: List Intersection\n",
    "\n",
    "Write a function that takes two lists and returns a new list containing only the elements that are present in both lists. Print the intersected list."
   ]
  },
  {
   "cell_type": "markdown",
   "id": "02ca8b6e",
   "metadata": {},
   "source": [
    "Q1 .Create a list of the first 20 positive integers. Print the list."
   ]
  },
  {
   "cell_type": "code",
   "execution_count": 7,
   "id": "0414e0bb",
   "metadata": {},
   "outputs": [
    {
     "name": "stdout",
     "output_type": "stream",
     "text": [
      "[1, 2, 3, 4, 5, 6, 7, 8, 9, 10, 11, 12, 13, 14, 15, 16, 17, 18, 19, 20]\n"
     ]
    }
   ],
   "source": [
    "list=[]\n",
    "for i in range(1,21):\n",
    "    list.append(i)\n",
    "print(list)"
   ]
  },
  {
   "cell_type": "markdown",
   "id": "8047effe",
   "metadata": {},
   "source": [
    "Q2 .Print the first, middle, and last elements of the list created in Assignment 1."
   ]
  },
  {
   "cell_type": "code",
   "execution_count": 12,
   "id": "9494d8cb",
   "metadata": {},
   "outputs": [
    {
     "name": "stdout",
     "output_type": "stream",
     "text": [
      "Acessing the first element in list 1\n",
      "Acessing the first element in list 11\n",
      "Acessing the first element in list 20\n"
     ]
    }
   ],
   "source": [
    "print(f\"Acessing the first element in list {list[0]}\")\n",
    "print(f\"Acessing the first element in list {list[len(list)//2]}\")\n",
    "print(f\"Acessing the first element in list {list[-1]}\")"
   ]
  },
  {
   "cell_type": "markdown",
   "id": "d3116000",
   "metadata": {},
   "source": [
    "Q3.Print the first five elements, the last five elements, and the elements from index 5 to 15 of the list created in Assignment 1."
   ]
  },
  {
   "cell_type": "code",
   "execution_count": 20,
   "id": "96508db6",
   "metadata": {},
   "outputs": [
    {
     "name": "stdout",
     "output_type": "stream",
     "text": [
      "[1, 2, 3, 4, 5]\n",
      "[16, 17, 18, 19, 20]\n",
      "[6, 7, 8, 9, 10, 11, 12, 13, 14, 15, 16]\n"
     ]
    }
   ],
   "source": [
    "print(list[:5])\n",
    "print(list[-5:])\n",
    "print(list[5:16])"
   ]
  },
  {
   "cell_type": "markdown",
   "id": "d906da1f",
   "metadata": {},
   "source": [
    "Q4 .Create a new list containing the squares of the first 10 positive integers using a list comprehension. Print the new list."
   ]
  },
  {
   "cell_type": "code",
   "execution_count": 22,
   "id": "adf143a4",
   "metadata": {},
   "outputs": [
    {
     "name": "stdout",
     "output_type": "stream",
     "text": [
      "[1, 4, 9, 16, 25, 36, 49, 64, 81, 100]\n"
     ]
    }
   ],
   "source": [
    "list1=[x*x for x in range(1,11)]\n",
    "print(list1)"
   ]
  },
  {
   "cell_type": "markdown",
   "id": "0cb9a0f7",
   "metadata": {},
   "source": [
    "Q5.Create a new list containing only the even numbers from the list created in Assignment 1 using a list comprehension. Print the new list."
   ]
  },
  {
   "cell_type": "code",
   "execution_count": 24,
   "id": "11fed0c6",
   "metadata": {},
   "outputs": [
    {
     "name": "stdout",
     "output_type": "stream",
     "text": [
      "[2, 4, 6, 8, 10, 12, 14, 16, 18, 20]\n"
     ]
    }
   ],
   "source": [
    "list2=[i for i in range(1,21) if i%2==0]\n",
    "print(list2)"
   ]
  },
  {
   "cell_type": "markdown",
   "id": "753d0aeb",
   "metadata": {},
   "source": [
    "Q 6.Create a list of random numbers and sort it in ascending and descending order. Remove the duplicates from the list and print the modified list."
   ]
  },
  {
   "cell_type": "code",
   "execution_count": 7,
   "id": "d95a0dba",
   "metadata": {},
   "outputs": [
    {
     "name": "stdout",
     "output_type": "stream",
     "text": [
      "The random numbrsin list[4, 12, 10, 21, 2, 1, 13, 12, 12, 9, 3, 9, 8, 9, 8, 10, 9, 16, 2, 2]\n",
      "sorted list is [1, 2, 2, 2, 3, 4, 8, 8, 9, 9, 9, 9, 10, 10, 12, 12, 12, 13, 16, 21]\n",
      "The numbers are sorted in reverse order [21, 16, 13, 12, 12, 12, 10, 10, 9, 9, 9, 9, 8, 8, 4, 3, 2, 2, 2, 1]\n"
     ]
    }
   ],
   "source": [
    "import random\n",
    "list_=[random.randint(1,21) for _ in range(20) ]#here we generated the list of random numbers\n",
    "print(f\"The random numbrsin list{list_}\")\n",
    "list_.sort()#sorting the list assending also we can use sorted(var_name)\n",
    "print(f\"sorted list is {list_}\")\n",
    "list_.sort(reverse=True)#to reverse the list \n",
    "print(f\"The numbers are sorted in reverse order {list_}\")\n"
   ]
  },
  {
   "cell_type": "markdown",
   "id": "0cb9a80c",
   "metadata": {},
   "source": [
    "Q 7.Create a nested list representing a 3x3 matrix and print the matrix. Access and print the element at the second row and third column."
   ]
  },
  {
   "cell_type": "code",
   "execution_count": 14,
   "id": "09be459b",
   "metadata": {},
   "outputs": [
    {
     "name": "stdout",
     "output_type": "stream",
     "text": [
      "[1, 2, 3]\n",
      "[3, 5, 6]\n",
      "[5, 6, 7]\n",
      "The elements in 3*3 matrix at secon reow and third colomn is  [[3, 5, 6]]\n"
     ]
    }
   ],
   "source": [
    "list_matrix=[\n",
    "    [1,2,3],\n",
    "    [3,5,6],\n",
    "    [5,6,7] ]\n",
    "for row in list_matrix:\n",
    "    print(row)\n",
    "print(f\"The elements in 3*3 matrix at second row and third colomn is  {list_matrix[1:2]}\")"
   ]
  },
  {
   "cell_type": "markdown",
   "id": "f09eba12",
   "metadata": {},
   "source": [
    "Q8.Create a list of dictionaries where each dictionary represents a student with keys 'name' and 'score'. Sort the list of dictionaries by the 'score' in descending order and print the sorted list."
   ]
  },
  {
   "cell_type": "code",
   "execution_count": 22,
   "id": "6b080879",
   "metadata": {},
   "outputs": [
    {
     "name": "stdout",
     "output_type": "stream",
     "text": [
      "{'Name': 'Hasan', 'score': 99}\n",
      "{'Name': 'sudesh', 'score': 78}\n",
      "{'Name': 'Harsh', 'score': 76}\n",
      "{'Name': 'Sajjad', 'score': 55}\n",
      "{'Name': 'Hamid', 'score': 44}\n",
      "{'Name': 'Harshad', 'score': 23}\n"
     ]
    }
   ],
   "source": [
    "dist=[\n",
    "    {\"Name\":\"Hasan\",\"score\":99},\n",
    "    {\"Name\":\"sudesh\",\"score\":78},\n",
    "    {\"Name\":\"Harsh\",\"score\":76},\n",
    "    {\"Name\":\"Harshad\",\"score\":23},\n",
    "    {\"Name\":\"Hamid\",\"score\":44},\n",
    "    {\"Name\":\"Sajjad\",\"score\":55}\n",
    "]\n",
    "\n",
    "sorted_dist=sorted(dist, key=lambda x:x[\"score\"],reverse=True)\n",
    "for i in sorted_dist:\n",
    "    print(i)\n"
   ]
  },
  {
   "cell_type": "markdown",
   "id": "bb573515",
   "metadata": {},
   "source": [
    "Q9 .Write a function that takes a 3x3 matrix (nested list) as input and returns its transpose. Print the original and transposed matrices."
   ]
  },
  {
   "cell_type": "code",
   "execution_count": 14,
   "id": "6a73fbc1",
   "metadata": {},
   "outputs": [
    {
     "name": "stdout",
     "output_type": "stream",
     "text": [
      "The original matrix is \n",
      "[1, 2, 3]\n",
      "[4, 5, 6]\n",
      "[7, 8, 9]\n",
      "The Transposed matrix is :\n",
      "[1, 4, 7]\n",
      "[2, 5, 8]\n",
      "[3, 6, 9]\n"
     ]
    }
   ],
   "source": [
    "def matrix_transposed(matrix):\n",
    "    transposed=[[matrix[j][i] for j in range(len(matrix))] for i in range(len(matrix[0]))]\n",
    "    return transposed\n",
    "matrix=[\n",
    "    [1,2,3],\n",
    "    [4,5,6],\n",
    "    [7,8,9]\n",
    "]\n",
    "\n",
    "transposed=matrix_transposed(matrix)\n",
    "\n",
    "print(\"The original matrix is \")\n",
    "for row in matrix:\n",
    "    print(row)\n",
    "\n",
    "\n",
    "print(\"The Transposed matrix is :\")\n",
    "for row1 in transposed:\n",
    "    print(row1)"
   ]
  },
  {
   "cell_type": "markdown",
   "id": "3162e878",
   "metadata": {},
   "source": [
    "Q 10.Write a function that takes a nested list and flattens it into a single list. Print the original and flattened lists."
   ]
  },
  {
   "cell_type": "code",
   "execution_count": 17,
   "id": "33cc513c",
   "metadata": {},
   "outputs": [
    {
     "name": "stdout",
     "output_type": "stream",
     "text": [
      "The original list [[1, 2, 3], [4, 5, 6], [7, 8, 9]]\n",
      "The flattened list [1, 2, 3, 4, 5, 6, 7, 8, 9]\n"
     ]
    }
   ],
   "source": [
    "def flat_list(nested_list):\n",
    "    flatlist=[nest  for sublist in nested_list for nest in sublist]\n",
    "    return flatlist\n",
    "nested_list=[\n",
    "    [1,2,3],\n",
    "    [4,5,6],\n",
    "    [7,8,9]\n",
    "]\n",
    "flattened=flat_list(nested_list)\n",
    "\n",
    "print(f\"The original list {nested_list}\")\n",
    "\n",
    "print(f\"The flattened list {flattened}\")"
   ]
  },
  {
   "cell_type": "markdown",
   "id": "5bfbc743",
   "metadata": {},
   "source": [
    "Q 11.Create a list of the first 10 positive integers. Remove the elements at indices 2, 4, and 6, and insert the element '99' at index 5. Print the modified list."
   ]
  },
  {
   "cell_type": "code",
   "execution_count": 31,
   "id": "15b7a6f2",
   "metadata": {},
   "outputs": [
    {
     "name": "stdout",
     "output_type": "stream",
     "text": [
      "[1, 2, 3, 4, 5, 6, 7, 8, 9, 10]\n",
      "After removing element at index [2] is [1, 2, 4, 5, 7, 8, 10]\n",
      "After removing element at index [4] is [1, 2, 4, 5, 7, 8, 10]\n",
      "After removing element at index [6] is [1, 2, 4, 5, 7, 8, 10]\n",
      "Inserted the new element at index [5] [1, 2, 4, 5, 7, 99, 8, 10]\n"
     ]
    }
   ],
   "source": [
    "remove_list=[x for x in range(1,11)]\n",
    "print(remove_list)\n",
    "\n",
    "remove_list.remove(remove_list[2])\n",
    "remove_list.remove(remove_list[4])\n",
    "remove_list.remove(remove_list[6])\n",
    "print(f\"After removing element at index [2] is {remove_list}\")\n",
    "print(f\"After removing element at index [4] is {remove_list}\")\n",
    "print(f\"After removing element at index [6] is {remove_list}\")\n",
    "\n",
    "remove_list.insert(5,99)\n",
    "print(f\"Inserted the new element at index [5] {remove_list}\")"
   ]
  },
  {
   "cell_type": "markdown",
   "id": "ea2410d6",
   "metadata": {},
   "source": [
    "Q 12.Create two lists of the same length. Use the `zip` function to combine these lists into a list of tuples and print the result."
   ]
  },
  {
   "cell_type": "code",
   "execution_count": 34,
   "id": "716dfc67",
   "metadata": {},
   "outputs": [
    {
     "name": "stdout",
     "output_type": "stream",
     "text": [
      "[(1, 6), (2, 7), (3, 8), (4, 9), (5, 0)]\n"
     ]
    }
   ],
   "source": [
    "list_zip1=[1,2,3,4,5]\n",
    "list_zip2=[6,7,8,9,0]\n",
    "zipped=list(zip(list_zip1,list_zip2))\n",
    "print(zipped)"
   ]
  },
  {
   "cell_type": "markdown",
   "id": "be3c026f",
   "metadata": {},
   "source": [
    "Q 13.Write a function that takes a list and returns a new list with the elements in reverse order. Print the original and reversed lists."
   ]
  },
  {
   "cell_type": "code",
   "execution_count": 36,
   "id": "35cefec9",
   "metadata": {},
   "outputs": [
    {
     "name": "stdout",
     "output_type": "stream",
     "text": [
      "The original list is \n",
      "[1, 2, 3, 4, 5, 6, 7, 8]\n",
      ":The reverse list is\n",
      "[8, 7, 6, 5, 4, 3, 2, 1]\n"
     ]
    }
   ],
   "source": [
    "def reverse_list(list):\n",
    "    return list[::-1]\n",
    "original_list=[1,2,3,4,5,6,7,8]\n",
    "reversed_list=reverse_list(original_list)\n",
    "print(\"The original list is \")\n",
    "print(original_list)\n",
    "\n",
    "print(\":The reverse list is\")\n",
    "print(reversed_list)"
   ]
  },
  {
   "cell_type": "markdown",
   "id": "2f5886ee",
   "metadata": {},
   "source": [
    "Q 14.Write a function that rotates a list by n positions. Print the original and rotated lists."
   ]
  },
  {
   "cell_type": "code",
   "execution_count": 43,
   "id": "eec86d2e",
   "metadata": {},
   "outputs": [
    {
     "name": "stdout",
     "output_type": "stream",
     "text": [
      "The original list is\n",
      "[1, 2, 3, 4, 5, 6, 7, 8]\n",
      "The Rotated list is \n",
      "[6, 7, 8, 1, 2, 3, 4, 5]\n"
     ]
    }
   ],
   "source": [
    "def rotate_list(li,n):\n",
    "    return li[n:]+li[:n]\n",
    "print(\"The original list is\")\n",
    "origin_list=[1,2,3,4,5,6,7,8]\n",
    "print(origin_list)\n",
    "print(\"The Rotated list is \")\n",
    "rotated_list=rotate_list(origin_list,5)\n",
    "print(rotated_list)\n"
   ]
  },
  {
   "cell_type": "markdown",
   "id": "030f4eda",
   "metadata": {},
   "source": [
    "Q 15.Write a function that takes two lists and returns a new list containing only the elements that are present in both lists. Print the intersected list."
   ]
  },
  {
   "cell_type": "code",
   "execution_count": 44,
   "id": "8e30e939",
   "metadata": {},
   "outputs": [
    {
     "name": "stdout",
     "output_type": "stream",
     "text": [
      "The elements of list 1 [2, 4, 5, 7, 8, 9]\n",
      "The elements in list 2 [2, 4, 6, 7, 89, 88]\n",
      "The common elements in list 1 and 2 is [2, 4, 7]\n"
     ]
    }
   ],
   "source": [
    "def list(list11,list22):\n",
    "    list=[x for x in list11 if x in list22]\n",
    "    return list \n",
    "\n",
    "list11=[2,4,5,7,8,9]\n",
    "list22=[2,4,6,7,89,88]\n",
    "common=list(list11,list22)\n",
    "print(f\"The elements of list 1 {list11}\")\n",
    "print(f\"The elements in list 2 {list22}\")\n",
    "print(f\"The common elements in list 1 and 2 is {common}\")\n"
   ]
  }
 ],
 "metadata": {
  "kernelspec": {
   "display_name": "base",
   "language": "python",
   "name": "python3"
  },
  "language_info": {
   "codemirror_mode": {
    "name": "ipython",
    "version": 3
   },
   "file_extension": ".py",
   "mimetype": "text/x-python",
   "name": "python",
   "nbconvert_exporter": "python",
   "pygments_lexer": "ipython3",
   "version": "3.12.7"
  }
 },
 "nbformat": 4,
 "nbformat_minor": 5
}
