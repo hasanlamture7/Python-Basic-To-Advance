{
 "cells": [
  {
   "cell_type": "markdown",
   "metadata": {},
   "source": [
    "Craeting the programs with list which solve the problems in real world"
   ]
  },
  {
   "cell_type": "markdown",
   "metadata": {},
   "source": [
    "1. Create a To-Do list "
   ]
  },
  {
   "cell_type": "code",
   "execution_count": 1,
   "metadata": {},
   "outputs": [
    {
     "name": "stdout",
     "output_type": "stream",
     "text": [
      "Go and pay the bills\n",
      "The Pending tasks\n",
      "-Practice the coding problems\n",
      "-Pay Bills\n",
      "-Go to gym\n",
      "-Complete the Data Analysis course\n",
      "-Have a Meeting\n"
     ]
    }
   ],
   "source": [
    "to_do_list=[\"Practice the coding problems\",\"Drink a 5 liter water\",\"Pay Bills\",\"Go to gym\"]\n",
    "\n",
    "#Adding in my to do list\n",
    "to_do_list.append(\"Complete the Data Analysis course\")\n",
    "to_do_list.append(\"Have a Meeting\")\n",
    "\n",
    "#removing a task from to-do\n",
    "to_do_list.remove(\"Drink a 5 liter water\")\n",
    "\n",
    "#for pending task remainder \n",
    "if \"Pay Bills\" in to_do_list:\n",
    "    print(\"Go and pay the bills\")\n",
    "\n",
    "# for displaying al to-dos\n",
    "print(\"The Pending tasks\")\n",
    "for task in to_do_list:\n",
    "    print(f\"-{task}\")"
   ]
  },
  {
   "cell_type": "markdown",
   "metadata": {},
   "source": [
    "2.Grades of a Student"
   ]
  },
  {
   "cell_type": "code",
   "execution_count": 4,
   "metadata": {},
   "outputs": [
    {
     "name": "stdout",
     "output_type": "stream",
     "text": [
      "The average is : 81\n",
      "The Highest score of student is 98\n",
      "The Lowest score of student is 59\n"
     ]
    }
   ],
   "source": [
    "grade=[76,88,95,79,59,98]\n",
    "\n",
    "#adding some grades\n",
    "grade.append(74)\n",
    "\n",
    "# calculating the average grade of students\n",
    "\n",
    "average_grade=sum(grade)//len(grade)\n",
    "print(f\"The average is : {average_grade}\")\n",
    "\n",
    "#The highest score\n",
    "highest=max(grade)\n",
    "print(f\"The Highest score of student is {highest}\")\n",
    "\n",
    "# calculating the lowest \n",
    "\n",
    "lowest=min(grade)\n",
    "print(f\"The Lowest score of student is {lowest}\")"
   ]
  },
  {
   "cell_type": "markdown",
   "metadata": {},
   "source": [
    "3. Managing the inventory "
   ]
  },
  {
   "cell_type": "code",
   "execution_count": 10,
   "metadata": {},
   "outputs": [
    {
     "name": "stdout",
     "output_type": "stream",
     "text": [
      "The custrdapple is In stock\n",
      "The Inventory\n",
      "-apple\n",
      "-pinapple\n",
      "-custrdapple\n",
      "-strawberry\n",
      "-avacado\n"
     ]
    }
   ],
   "source": [
    "inventory=[\"apple\",\"banana\",\"pinapple\",\"custrdapple\",\"strawberry\"]\n",
    "\n",
    "#adding an item in inventory\n",
    "\n",
    "inventory.append(\"avacado\")\n",
    "\n",
    "#removing an item when it is out of stock\n",
    "\n",
    "inventory.remove(\"banana\")\n",
    "\n",
    "# checking the item in stock or not\n",
    "item=\"custrdapple\"\n",
    "\n",
    "if item in inventory:\n",
    "    print(f\"The {item} is In stock\")\n",
    "else:\n",
    "    print(\"The item is out of stock\")\n",
    "#all items in inventory\n",
    "print(\"The Inventory\")\n",
    "for item in inventory:\n",
    "    print(f\"-{item}\")"
   ]
  },
  {
   "cell_type": "markdown",
   "metadata": {},
   "source": [
    "User Feed back "
   ]
  },
  {
   "cell_type": "code",
   "execution_count": 9,
   "metadata": {},
   "outputs": [
    {
     "name": "stdout",
     "output_type": "stream",
     "text": [
      "The good rating :2\n",
      "The All Feedback\n",
      "-Great\n",
      "-Exellent\n",
      "-Good\n",
      "-Average\n",
      "-The service was not good\n"
     ]
    }
   ],
   "source": [
    "feedback=[\"Great\",\"Exellent\",\"Good\",\"Average\"]\n",
    "\n",
    "#adding some feedback\n",
    "\n",
    "feedback.append(\"The service was not good\")\n",
    "\n",
    "#count the good feedback\n",
    "\n",
    "count_feedback=sum(1 for comment in feedback if \"great\" in comment.lower() or \"exellent\" in comment.lower())\n",
    "print(f\"The good rating :{count_feedback}\")\n",
    "# the feedback from user\n",
    "print(\"The All Feedback\")\n",
    "for comment in feedback:\n",
    "    print(f\"-{comment}\")"
   ]
  }
 ],
 "metadata": {
  "kernelspec": {
   "display_name": "base",
   "language": "python",
   "name": "python3"
  },
  "language_info": {
   "codemirror_mode": {
    "name": "ipython",
    "version": 3
   },
   "file_extension": ".py",
   "mimetype": "text/x-python",
   "name": "python",
   "nbconvert_exporter": "python",
   "pygments_lexer": "ipython3",
   "version": "3.12.7"
  }
 },
 "nbformat": 4,
 "nbformat_minor": 2
}
