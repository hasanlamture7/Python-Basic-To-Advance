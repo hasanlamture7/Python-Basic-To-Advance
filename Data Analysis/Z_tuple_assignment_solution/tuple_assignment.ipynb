{
 "cells": [
  {
   "cell_type": "markdown",
   "id": "6cade624",
   "metadata": {},
   "source": [
    "# Module 3: Data Structures Assignments\n",
    "## Lesson 3.2: Tuples\n",
    "### Assignment 1: Creating and Accessing Tuples\n",
    "\n",
    "Create a tuple with the first 10 positive integers. Print the tuple.\n",
    "\n",
    "### Assignment 2: Accessing Tuple Elements\n",
    "\n",
    "Print the first, middle, and last elements of the tuple created in Assignment 1.\n",
    "\n",
    "### Assignment 3: Tuple Slicing\n",
    "\n",
    "Print the first three elements, the last three elements, and the elements from index 2 to 5 of the tuple created in Assignment 1.\n",
    "\n",
    "### Assignment 4: Nested Tuples\n",
    "\n",
    "Create a nested tuple representing a 3x3 matrix and print the matrix. Access and print the element at the second row and third column.\n",
    "\n",
    "### Assignment 5: Tuple Concatenation\n",
    "\n",
    "Concatenate two tuples: (1, 2, 3) and (4, 5, 6). Print the resulting tuple.\n",
    "\n",
    "### Assignment 6: Tuple Methods\n",
    "\n",
    "Create a tuple with duplicate elements and count the occurrences of an element. Find the index of the first occurrence of an element in the tuple.\n",
    "\n",
    "### Assignment 7: Unpacking Tuples\n",
    "\n",
    "Create a tuple with 5 elements and unpack it into 5 variables. Print the variables.\n",
    "\n",
    "### Assignment 8: Tuple Conversion\n",
    "\n",
    "Convert a list of the first 5 positive integers to a tuple. Print the tuple.\n",
    "\n",
    "### Assignment 9: Tuple of Tuples\n",
    "\n",
    "Create a tuple containing 3 tuples, each with 3 elements. Print the tuple of tuples.\n",
    "\n",
    "### Assignment 10: Tuple and List\n",
    "\n",
    "Create a tuple with the first 5 positive integers. Convert it to a list, append the number 6, and convert it back to a tuple. Print the resulting tuple.\n",
    "\n",
    "### Assignment 11: Tuple and String\n",
    "\n",
    "Create a tuple with the characters of a string. Join the tuple elements into a single string. Print the string.\n",
    "\n",
    "### Assignment 12: Tuple and Dictionary\n",
    "\n",
    "Create a dictionary with tuple keys and integer values. Print the dictionary.\n",
    "\n",
    "### Assignment 13: Nested Tuple Iteration\n",
    "\n",
    "Create a nested tuple and iterate over the elements, printing each element.\n",
    "\n",
    "### Assignment 14: Tuple and Set\n",
    "\n",
    "Create a tuple with duplicate elements. Convert it to a set to remove duplicates and print the resulting set.\n",
    "\n",
    "### Assignment 15: Tuple Functions\n",
    "\n",
    "Write functions that take a tuple and return the minimum, maximum, and sum of the elements. Print the results for a sample tuple."
   ]
  },
  {
   "cell_type": "markdown",
   "id": "881081b1",
   "metadata": {},
   "source": [
    "Q1.Create a tuple with the first 10 positive integers. Print the tuple."
   ]
  },
  {
   "cell_type": "code",
   "execution_count": 44,
   "id": "7982ec05",
   "metadata": {},
   "outputs": [
    {
     "name": "stdout",
     "output_type": "stream",
     "text": [
      "(1, 2, 3, 4, 5, 6, 7, 8, 9, 10)\n"
     ]
    }
   ],
   "source": [
    "first_tuple=tuple(range(1,11))\n",
    "print(first_tuple)"
   ]
  },
  {
   "cell_type": "markdown",
   "id": "06c0a82e",
   "metadata": {},
   "source": [
    "Q2 .Print the first, middle, and last elements of the tuple created in Assignment 1."
   ]
  },
  {
   "cell_type": "code",
   "execution_count": 45,
   "id": "d1a991dd",
   "metadata": {},
   "outputs": [
    {
     "name": "stdout",
     "output_type": "stream",
     "text": [
      "The first element of tuple is 1\n",
      "The middle element of tuple is 6\n",
      "The last element of tuple is 10 \n"
     ]
    }
   ],
   "source": [
    "print(f\"The first element of tuple is {first_tuple[0]}\")\n",
    "print(f\"The middle element of tuple is {first_tuple[len(first_tuple)//2]}\")\n",
    "print(f\"The last element of tuple is {first_tuple[-1]} \")\n",
    "#print(first_tuple[0],first_tuple[len(first_tuple)//2],first_tuple[-1])"
   ]
  },
  {
   "cell_type": "markdown",
   "id": "e5f66140",
   "metadata": {},
   "source": [
    "Q 3.Print the first three elements, the last three elements, and the elements from index 2 to 5 of the tuple created in Assignment 1."
   ]
  },
  {
   "cell_type": "code",
   "execution_count": 46,
   "id": "e3814f10",
   "metadata": {},
   "outputs": [
    {
     "name": "stdout",
     "output_type": "stream",
     "text": [
      "(1, 2, 3)\n",
      "(8, 9, 10)\n",
      "(3, 4, 5, 6)\n"
     ]
    }
   ],
   "source": [
    "print(first_tuple[0:3])\n",
    "print(first_tuple[-3:])\n",
    "print(first_tuple[2:6])"
   ]
  },
  {
   "cell_type": "markdown",
   "id": "8e75c108",
   "metadata": {},
   "source": [
    "Q 4.Create a nested tuple representing a 3x3 matrix and print the matrix. Access and print the element at the second row and third column."
   ]
  },
  {
   "cell_type": "code",
   "execution_count": 47,
   "id": "e4612b63",
   "metadata": {},
   "outputs": [
    {
     "name": "stdout",
     "output_type": "stream",
     "text": [
      "(1, 2, 3)\n",
      "(4, 5, 6)\n",
      "(7, 8, 9)\n",
      "The element at second row and third colomn is 6\n"
     ]
    }
   ],
   "source": [
    "tuple_nested= (\n",
    "    (1,2,3),\n",
    "    (4,5,6),\n",
    "    (7,8,9)\n",
    ")\n",
    "for mat in tuple_nested:\n",
    "    print(mat)\n",
    "print(f\"The element at second row and third colomn is {tuple_nested[1][2]}\")"
   ]
  },
  {
   "cell_type": "markdown",
   "id": "5b5499ca",
   "metadata": {},
   "source": [
    "Q 5.Concatenate two tuples: (1, 2, 3) and (4, 5, 6). Print the resulting tuple."
   ]
  },
  {
   "cell_type": "code",
   "execution_count": 48,
   "id": "c84138b8",
   "metadata": {},
   "outputs": [
    {
     "name": "stdout",
     "output_type": "stream",
     "text": [
      "The concatination of two tuples is (1, 2, 3, 4, 5, 6)\n"
     ]
    }
   ],
   "source": [
    "tup1=(1,2,3)\n",
    "tup2=(4,5,6)\n",
    "new_tup=tup1+tup2\n",
    "print(f\"The concatination of two tuples is {new_tup}\")"
   ]
  },
  {
   "cell_type": "markdown",
   "id": "a7e63cb6",
   "metadata": {},
   "source": [
    "Q 6.Create a tuple with duplicate elements and count the occurrences of an element. Find the index of the first occurrence of an element in the tuple."
   ]
  },
  {
   "cell_type": "code",
   "execution_count": 49,
   "id": "a211fff2",
   "metadata": {},
   "outputs": [
    {
     "name": "stdout",
     "output_type": "stream",
     "text": [
      "The count of elements 2 in tuples is 3\n",
      "The index of first occurence of element 4 is 3\n"
     ]
    }
   ],
   "source": [
    "dup_tuples=(1,2,3,4,5,6,4,2,1,2,4,9)\n",
    "print(f\"The count of elements 2 in tuples is {dup_tuples.count(2)}\")\n",
    "print(f\"The index of first occurence of element 4 is {dup_tuples.index(4)}\")"
   ]
  },
  {
   "cell_type": "markdown",
   "id": "5b13906d",
   "metadata": {},
   "source": [
    "Q 7.Create a tuple with 5 elements and unpack it into 5 variables. Print the variables."
   ]
  },
  {
   "cell_type": "code",
   "execution_count": 50,
   "id": "af235652",
   "metadata": {},
   "outputs": [
    {
     "name": "stdout",
     "output_type": "stream",
     "text": [
      "1 2 3 4 5\n"
     ]
    }
   ],
   "source": [
    "tuples=(1,2,3,4,5)\n",
    "a,b,c,d,e=tuples\n",
    "print(a,b,c,d,e)"
   ]
  },
  {
   "cell_type": "markdown",
   "id": "65727da9",
   "metadata": {},
   "source": [
    "Q 8.Convert a list of the first 5 positive integers to a tuple. Print the tuple."
   ]
  },
  {
   "cell_type": "code",
   "execution_count": 51,
   "id": "0673bdf4",
   "metadata": {},
   "outputs": [
    {
     "name": "stdout",
     "output_type": "stream",
     "text": [
      "(1, 2, 3, 4, 5)\n"
     ]
    }
   ],
   "source": [
    "lis1=[1,2,3,4,5]\n",
    "tup=tuple(lis1)\n",
    "print(tup)"
   ]
  },
  {
   "cell_type": "markdown",
   "id": "ba631efd",
   "metadata": {},
   "source": [
    "Q 9.Create a tuple containing 3 tuples, each with 3 elements. Print the tuple of tuples."
   ]
  },
  {
   "cell_type": "code",
   "execution_count": 52,
   "id": "14d3a20b",
   "metadata": {},
   "outputs": [
    {
     "name": "stdout",
     "output_type": "stream",
     "text": [
      "((1, 2, 3), (4, 5, 6), (7, 8, 9))\n",
      "123\n",
      "456\n",
      "789\n"
     ]
    }
   ],
   "source": [
    "nested_tuples=((1,2,3),(4,5,6),(7,8,9))\n",
    "print(nested_tuples)\n",
    "for subtuples in nested_tuples:\n",
    "    for elem in subtuples:\n",
    "        print(elem,end=\"\")\n",
    "    print()"
   ]
  },
  {
   "cell_type": "markdown",
   "id": "9893385a",
   "metadata": {},
   "source": [
    "Q 10.Create a tuple with the first 5 positive integers. Convert it to a list, append the number 6, and convert it back to a tuple. Print the resulting tuple."
   ]
  },
  {
   "cell_type": "code",
   "execution_count": 60,
   "id": "c101dc46",
   "metadata": {},
   "outputs": [
    {
     "name": "stdout",
     "output_type": "stream",
     "text": [
      "[1, 2, 3, 4, 5]\n",
      "(1, 2, 3, 4, 5, 6)\n"
     ]
    }
   ],
   "source": [
    "tpl = (1, 2, 3, 4, 5)\n",
    "lis=list(tpl)\n",
    "print(lis)\n",
    "lis.append(6)\n",
    "tpl=tuple(lis)\n",
    "print(tpl)"
   ]
  },
  {
   "cell_type": "markdown",
   "id": "741d65e3",
   "metadata": {},
   "source": [
    "Q 11.Create a tuple with the characters of a string. Join the tuple elements into a single string. Print the string."
   ]
  },
  {
   "cell_type": "code",
   "execution_count": 64,
   "id": "3fb6d422",
   "metadata": {},
   "outputs": [
    {
     "name": "stdout",
     "output_type": "stream",
     "text": [
      "The string after converting into tuple ('H', 'a', 's', 'a', 'n')\n",
      "The string after merging into single string  Hasan\n"
     ]
    }
   ],
   "source": [
    "str=\"Hasan\"\n",
    "str_tup=tuple(str)\n",
    "print(f\"The string after converting into tuple {str_tup}\")\n",
    "joined_string=''.join(str_tup)\n",
    "print(f\"The string after merging into single string  {joined_string}\")\n"
   ]
  },
  {
   "cell_type": "markdown",
   "id": "007f91c8",
   "metadata": {},
   "source": [
    "Q 12.Create a dictionary with tuple keys and integer values. Print the dictionary."
   ]
  },
  {
   "cell_type": "code",
   "execution_count": 78,
   "id": "b15a1e57",
   "metadata": {},
   "outputs": [
    {
     "name": "stdout",
     "output_type": "stream",
     "text": [
      "{'Name': 1, '1+ 1': 2, (4, 5): 6}\n"
     ]
    }
   ],
   "source": [
    "dist={\n",
    "    (\"Name\"):1,\n",
    "    (\"1+ 1\"): 2,\n",
    "    (4,5):6\n",
    "}\n",
    "print(dist)"
   ]
  },
  {
   "cell_type": "markdown",
   "id": "6e3e47d7",
   "metadata": {},
   "source": [
    "Q 13.Create a nested tuple and iterate over the elements, printing each element."
   ]
  },
  {
   "cell_type": "code",
   "execution_count": 67,
   "id": "9e50b69e",
   "metadata": {},
   "outputs": [
    {
     "name": "stdout",
     "output_type": "stream",
     "text": [
      "1\n",
      "2\n",
      "3\n",
      "4\n",
      "5\n",
      "6\n",
      "7\n",
      "8\n",
      "9\n"
     ]
    }
   ],
   "source": [
    "nested_tuples=((1,2,3),(4,5,6),(7,8,9))\n",
    "for subtuples in nested_tuples:\n",
    "    for elem in subtuples:\n",
    "        print(elem)"
   ]
  },
  {
   "cell_type": "markdown",
   "id": "ac661205",
   "metadata": {},
   "source": [
    "Q 14.Create a tuple with duplicate elements. Convert it to a set to remove duplicates and print the resulting set."
   ]
  },
  {
   "cell_type": "code",
   "execution_count": 69,
   "id": "8fc73096",
   "metadata": {},
   "outputs": [
    {
     "name": "stdout",
     "output_type": "stream",
     "text": [
      "{1, 2, 3, 4, 5}\n"
     ]
    }
   ],
   "source": [
    "new_tuples=(1,2,3,4,1,1,2,3,3,4,4,5)\n",
    "uniq_set=set(new_tuples)\n",
    "print(uniq_set)"
   ]
  },
  {
   "cell_type": "markdown",
   "id": "f6ac2f49",
   "metadata": {},
   "source": [
    "Q 15.Write functions that take a tuple and return the minimum, maximum, and sum of the elements. Print the results for a sample tuple."
   ]
  },
  {
   "cell_type": "code",
   "execution_count": 77,
   "id": "ce912d88",
   "metadata": {},
   "outputs": [
    {
     "name": "stdout",
     "output_type": "stream",
     "text": [
      "The min in tuple is 1\n",
      "The min in tuple is 1\n",
      "The min in tuple is 36\n"
     ]
    }
   ],
   "source": [
    "def min_tup(tpl1):\n",
    "    return min(tpl1)\n",
    "\n",
    "def mix_tup(tpl1):\n",
    "    return max(tpl1)\n",
    "\n",
    "def sum_tup(tpl1):\n",
    "    return sum(tpl1)\n",
    "\n",
    "sample_tup=(1,2,3,4,5,6,7,8)\n",
    "print(f\"The min in tuple is {min_tup(sample_tup)}\")\n",
    "print(f\"The min in tuple is {min_tup(sample_tup)}\")\n",
    "print(f\"The min in tuple is {sum_tup(sample_tup)}\")"
   ]
  }
 ],
 "metadata": {
  "kernelspec": {
   "display_name": "base",
   "language": "python",
   "name": "python3"
  },
  "language_info": {
   "codemirror_mode": {
    "name": "ipython",
    "version": 3
   },
   "file_extension": ".py",
   "mimetype": "text/x-python",
   "name": "python",
   "nbconvert_exporter": "python",
   "pygments_lexer": "ipython3",
   "version": "3.12.7"
  }
 },
 "nbformat": 4,
 "nbformat_minor": 5
}
