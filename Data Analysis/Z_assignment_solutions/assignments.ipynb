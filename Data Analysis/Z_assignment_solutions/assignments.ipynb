{
 "cells": [
  {
   "cell_type": "markdown",
   "id": "dba4df51",
   "metadata": {},
   "source": [
    "# Module 2: Control Flow Assignments\n",
    "## Lesson 2.1: Conditional Statements\n",
    "### Assignment 1: Simple if Statement\n",
    "\n",
    "Write a program that asks the user to input a number and prints whether the number is positive.\n",
    "\n",
    "### Assignment 2: if-else Statement\n",
    "\n",
    "Write a program that asks the user to input a number and prints whether the number is positive or negative.\n",
    "\n",
    "### Assignment 3: if-elif-else Statement\n",
    "\n",
    "Write a program that asks the user to input a number and prints whether the number is positive, negative, or zero.\n",
    "\n",
    "### Assignment 4: Nested if Statement\n",
    "\n",
    "Write a program that asks the user to input a number and prints whether the number is positive and even, positive and odd, or negative.\n",
    "\n",
    "## Lesson 2.2: Loops\n",
    "### Assignment 5: for Loop\n",
    "\n",
    "Write a program that prints all the numbers from 1 to 10 using a for loop.\n",
    "\n",
    "### Assignment 6: while Loop\n",
    "\n",
    "Write a program that prints all the numbers from 1 to 10 using a while loop.\n",
    "\n",
    "### Assignment 7: Nested Loops\n",
    "\n",
    "Write a program that prints a 5x5 grid of asterisks (*) using nested loops.\n",
    "\n",
    "### Assignment 8: break Statement\n",
    "\n",
    "Write a program that asks the user to input numbers until they input 0. The program should print the sum of all the input numbers.\n",
    "\n",
    "### Assignment 9: continue Statement\n",
    "\n",
    "Write a program that prints all the numbers from 1 to 10 except 5 using a for loop and continue statement.\n",
    "\n",
    "### Assignment 10: pass Statement\n",
    "\n",
    "Write a program that defines an empty function using the pass statement.\n",
    "\n",
    "### Assignment 11: Combining Loops and Conditionals\n",
    "\n",
    "Write a program that asks the user to input a number and prints all the even numbers from 1 to that number using a for loop.\n",
    "\n",
    "### Assignment 12: Factorial Calculation\n",
    "\n",
    "Write a program that calculates the factorial of a number input by the user using a while loop.\n",
    "\n",
    "### Assignment 13: Sum of Digits\n",
    "\n",
    "Write a program that calculates the sum of the digits of a number input by the user using a while loop.\n",
    "\n",
    "### Assignment 14: Prime Number Check\n",
    "\n",
    "Write a program that checks if a number input by the user is a prime number using a for loop.\n",
    "\n",
    "### Assignment 15: Fibonacci Sequence\n",
    "\n",
    "Write a program that prints the first n Fibonacci numbers, where n is input by the user."
   ]
  },
  {
   "cell_type": "markdown",
   "id": "5bc60496",
   "metadata": {},
   "source": [
    "Q1. Write a program that asks the user to input a number and prints whether the number is positive."
   ]
  },
  {
   "cell_type": "code",
   "execution_count": 2,
   "id": "c19faf91",
   "metadata": {},
   "outputs": [
    {
     "name": "stdout",
     "output_type": "stream",
     "text": [
      "3 is positive\n"
     ]
    }
   ],
   "source": [
    "num=int(input(\"Enter a number to check number\"))\n",
    "if num>0:\n",
    "    print(f\"{num} is positive\")"
   ]
  },
  {
   "cell_type": "markdown",
   "id": "6f63c719",
   "metadata": {},
   "source": [
    "Q2.Write a program that asks the user to input a number and prints whether the number is positive or negative."
   ]
  },
  {
   "cell_type": "code",
   "execution_count": 6,
   "id": "8a09a1ee",
   "metadata": {},
   "outputs": [
    {
     "name": "stdout",
     "output_type": "stream",
     "text": [
      "-4 is negative\n"
     ]
    }
   ],
   "source": [
    "num=int(input(\"Enter a number to check number is positive or negative\"))\n",
    "if num>0:\n",
    "    print(f\"{num} is positive\")\n",
    "else:\n",
    "    print(f\"{num} is negative\")"
   ]
  },
  {
   "cell_type": "markdown",
   "id": "ad768997",
   "metadata": {},
   "source": [
    "Q3.Write a program that asks the user to input a number and prints whether the number is positive, negative, or zero."
   ]
  },
  {
   "cell_type": "code",
   "execution_count": 8,
   "id": "225ed8d6",
   "metadata": {},
   "outputs": [
    {
     "name": "stdout",
     "output_type": "stream",
     "text": [
      "Number is zero\n"
     ]
    }
   ],
   "source": [
    "num=int(input(\"Enter a number to check positive,negative or zero\"))\n",
    "if num>0:\n",
    "    print(f\"{num} is positive\")\n",
    "elif num<0:\n",
    "    print(f\"{num} is negative\")\n",
    "else:\n",
    "    print(f\"Number is zero\")"
   ]
  },
  {
   "cell_type": "markdown",
   "id": "c8f51374",
   "metadata": {},
   "source": [
    "Q4.Write a program that asks the user to input a number and prints whether the number is positive and even, positive and odd, or negative."
   ]
  },
  {
   "cell_type": "code",
   "execution_count": 12,
   "id": "819ac05b",
   "metadata": {},
   "outputs": [
    {
     "name": "stdout",
     "output_type": "stream",
     "text": [
      "-2 is negative\n"
     ]
    }
   ],
   "source": [
    "num=int(input(\"Enter a number \"))\n",
    "if num>0:\n",
    "    if num%2==0:\n",
    "        print(f\"{num} is positive and even\")\n",
    "    else:\n",
    "        print(f\"{num} is positive and odd\")\n",
    "elif num<0:\n",
    "    print(f\"{num} is negative\")\n",
    "else:\n",
    "    print(f\"Number is zero\")"
   ]
  },
  {
   "cell_type": "markdown",
   "id": "3a415129",
   "metadata": {},
   "source": [
    "Q5.Write a program that prints all the numbers from 1 to 10 using a for loop."
   ]
  },
  {
   "cell_type": "code",
   "execution_count": 13,
   "id": "28d5e04b",
   "metadata": {},
   "outputs": [
    {
     "name": "stdout",
     "output_type": "stream",
     "text": [
      "1\n",
      "2\n",
      "3\n",
      "4\n",
      "5\n",
      "6\n",
      "7\n",
      "8\n",
      "9\n",
      "10\n"
     ]
    }
   ],
   "source": [
    "for i in range(1,11):\n",
    "    print(i)"
   ]
  },
  {
   "cell_type": "markdown",
   "id": "91b87033",
   "metadata": {},
   "source": [
    "Q6.Write a program that prints all the numbers from 1 to 10 using a while loop."
   ]
  },
  {
   "cell_type": "code",
   "execution_count": 14,
   "id": "78cf3564",
   "metadata": {},
   "outputs": [
    {
     "name": "stdout",
     "output_type": "stream",
     "text": [
      "1\n",
      "2\n",
      "3\n",
      "4\n",
      "5\n",
      "6\n",
      "7\n",
      "8\n",
      "9\n",
      "10\n"
     ]
    }
   ],
   "source": [
    "i=1\n",
    "while(i<11):\n",
    "    print(i)\n",
    "    i+=1"
   ]
  },
  {
   "cell_type": "markdown",
   "id": "2fbe1822",
   "metadata": {},
   "source": [
    "Q7.Write a program that prints a 5x5 grid of asterisks (*) using nested loops."
   ]
  },
  {
   "cell_type": "code",
   "execution_count": 23,
   "id": "29057735",
   "metadata": {},
   "outputs": [
    {
     "name": "stdout",
     "output_type": "stream",
     "text": [
      "*****\n",
      "*****\n",
      "*****\n",
      "*****\n",
      "*****\n"
     ]
    }
   ],
   "source": [
    "for i in range(5):\n",
    "    for j in range(5):\n",
    "        print(\"*\",end=\"\")\n",
    "    print()"
   ]
  },
  {
   "cell_type": "markdown",
   "id": "f9c6e346",
   "metadata": {},
   "source": [
    "Q 8.Write a program that asks the user to input numbers until they input 0. The program should print the sum of all the input numbers."
   ]
  },
  {
   "cell_type": "code",
   "execution_count": 28,
   "id": "7daa0a5d",
   "metadata": {},
   "outputs": [
    {
     "name": "stdout",
     "output_type": "stream",
     "text": [
      "Total to input numbers is 45\n"
     ]
    }
   ],
   "source": [
    "total=0\n",
    "while True:\n",
    "    num=int(input(\"Enter a number (Zero will stop input)\"))\n",
    "    if num==0:\n",
    "        break\n",
    "    total+=num\n",
    "    # print(f\"{num}\")\n",
    "print(f\"Total to input numbers is {total}\")"
   ]
  },
  {
   "cell_type": "markdown",
   "id": "8a62ac58",
   "metadata": {},
   "source": [
    "Q9.Write a program that prints all the numbers from 1 to 10 except 5 using a for loop and continue statement."
   ]
  },
  {
   "cell_type": "code",
   "execution_count": 29,
   "id": "69650e44",
   "metadata": {},
   "outputs": [
    {
     "name": "stdout",
     "output_type": "stream",
     "text": [
      "1\n",
      "2\n",
      "3\n",
      "4\n",
      "6\n",
      "7\n",
      "8\n",
      "9\n",
      "10\n"
     ]
    }
   ],
   "source": [
    "for i in range(1,11):\n",
    "    if i==5:\n",
    "        continue\n",
    "    print(i)"
   ]
  },
  {
   "cell_type": "markdown",
   "id": "a986c991",
   "metadata": {},
   "source": [
    "Q 10.Write a program that defines an empty function using the pass statement."
   ]
  },
  {
   "cell_type": "code",
   "execution_count": 30,
   "id": "373401e4",
   "metadata": {},
   "outputs": [],
   "source": [
    "def empty_function():\n",
    "    pass\n",
    "empty_function()"
   ]
  },
  {
   "cell_type": "markdown",
   "id": "02850b0b",
   "metadata": {},
   "source": [
    "Q 11.Write a program that asks the user to input a number and prints all the even numbers from 1 to that number using a for loop."
   ]
  },
  {
   "cell_type": "code",
   "execution_count": 31,
   "id": "6bc2e2ad",
   "metadata": {},
   "outputs": [
    {
     "name": "stdout",
     "output_type": "stream",
     "text": [
      "2\n",
      "4\n",
      "6\n",
      "8\n",
      "10\n",
      "12\n",
      "14\n",
      "16\n",
      "18\n",
      "20\n",
      "22\n"
     ]
    }
   ],
   "source": [
    "num=int(input(\"Enter a number to check even or odd\"))\n",
    "for i in range(1,num):\n",
    "    if i%2==0:\n",
    "        print(i)\n",
    "    "
   ]
  },
  {
   "cell_type": "markdown",
   "id": "8af52eab",
   "metadata": {},
   "source": [
    "Q12.Write a program that calculates the factorial of a number input by the user using a while loop."
   ]
  },
  {
   "cell_type": "code",
   "execution_count": 35,
   "id": "e90e2558",
   "metadata": {},
   "outputs": [
    {
     "name": "stdout",
     "output_type": "stream",
     "text": [
      "The factorial of 5 is 120\n"
     ]
    }
   ],
   "source": [
    "num-int(input(\"Enter your number of factorial\"))\n",
    "factorial=1\n",
    "i=1\n",
    "while i<=num:\n",
    "    factorial *=i\n",
    "    i +=1\n",
    "print(f\"The factorial of {num} is {factorial}\")"
   ]
  },
  {
   "cell_type": "markdown",
   "id": "975fc50b",
   "metadata": {},
   "source": [
    "Q13. Write a program that calculates the sum of the digits of a number input by the user using a while loop."
   ]
  },
  {
   "cell_type": "code",
   "execution_count": 39,
   "id": "6865ffe1",
   "metadata": {},
   "outputs": [
    {
     "name": "stdout",
     "output_type": "stream",
     "text": [
      "The sum of Number is 22\n"
     ]
    }
   ],
   "source": [
    "num=int(input(\"Enter a number to check sum of all digits\"))\n",
    "sum_all_digit=0\n",
    "while num>0:\n",
    "    digit=num % 10\n",
    "    sum_all_digit+=digit\n",
    "    num=num//10\n",
    "print(f\"The sum of Number is {sum_all_digit}\")\n"
   ]
  },
  {
   "cell_type": "markdown",
   "id": "61a74e21",
   "metadata": {},
   "source": [
    "Q 14.Write a program that checks if a number input by the user is a prime number using a for loop."
   ]
  },
  {
   "cell_type": "code",
   "execution_count": 48,
   "id": "415ad229",
   "metadata": {},
   "outputs": [
    {
     "name": "stdout",
     "output_type": "stream",
     "text": [
      "The given number 4 is not a prime number \n"
     ]
    }
   ],
   "source": [
    "number=int(input(\"Enter a number to check prime or not\"))\n",
    "is_prime=True\n",
    "if number<=1:\n",
    "    is_prime=False\n",
    "else:\n",
    "    for i in range(2,int(number*0.5)+1):\n",
    "        if number%i==0:\n",
    "            is_prime=False\n",
    "            break\n",
    "if is_prime:\n",
    "    print(f\"The given number {number} is a prime number\")\n",
    "else:\n",
    "    print(f\"The given number {number} is not a prime number \")"
   ]
  },
  {
   "cell_type": "markdown",
   "id": "c8cc3f4c",
   "metadata": {},
   "source": [
    "Q15.Write a program that prints the first n Fibonacci numbers, where n is input by the user."
   ]
  },
  {
   "cell_type": "code",
   "execution_count": null,
   "id": "1b18a551",
   "metadata": {},
   "outputs": [
    {
     "name": "stdout",
     "output_type": "stream",
     "text": [
      "0\n",
      "1\n",
      "1\n",
      "2\n",
      "3\n",
      "5\n",
      "8\n",
      "13\n",
      "21\n",
      "34\n"
     ]
    }
   ],
   "source": [
    "number=int(input(\"Enter a number \"))\n",
    "a,b=0,1\n",
    "\n",
    "count=0\n",
    "while count <number:\n",
    "    print(a)\n",
    "    a,b=b,a+b\n",
    "    count +=1"
   ]
  },
  {
   "cell_type": "code",
   "execution_count": null,
   "id": "1edd4bec",
   "metadata": {},
   "outputs": [],
   "source": []
  }
 ],
 "metadata": {
  "kernelspec": {
   "display_name": "base",
   "language": "python",
   "name": "python3"
  },
  "language_info": {
   "codemirror_mode": {
    "name": "ipython",
    "version": 3
   },
   "file_extension": ".py",
   "mimetype": "text/x-python",
   "name": "python",
   "nbconvert_exporter": "python",
   "pygments_lexer": "ipython3",
   "version": "3.12.7"
  }
 },
 "nbformat": 4,
 "nbformat_minor": 5
}
